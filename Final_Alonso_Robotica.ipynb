{
  "nbformat": 4,
  "nbformat_minor": 0,
  "metadata": {
    "kernelspec": {
      "display_name": "tf_2_gpu",
      "language": "python",
      "name": "tf_2_gpu"
    },
    "language_info": {
      "codemirror_mode": {
        "name": "ipython",
        "version": 3
      },
      "file_extension": ".py",
      "mimetype": "text/x-python",
      "name": "python",
      "nbconvert_exporter": "python",
      "pygments_lexer": "ipython3",
      "version": "3.7.4"
    },
    "colab": {
      "name": "Final_Alonso_Robotica.ipynb",
      "provenance": [],
      "collapsed_sections": [
        "IALGlQUfTD8U",
        "UncacPJ-TD8e",
        "p-LMgNtXTD8j",
        "xga3Te9xTD8_",
        "nMCTuL3NTD9a",
        "m0A8Z60tTD9j",
        "qNgrd2uRTD9t",
        "ltUJqcgITD9z",
        "MMw7xBm6TD90"
      ]
    }
  },
  "cells": [
    {
      "cell_type": "code",
      "metadata": {
        "id": "jcjZhTDZTD73",
        "colab_type": "code",
        "colab": {}
      },
      "source": [
        "!start ."
      ],
      "execution_count": 0,
      "outputs": []
    },
    {
      "cell_type": "markdown",
      "metadata": {
        "id": "hLhQKj2fTD78",
        "colab_type": "text"
      },
      "source": [
        "# <font color =blue> Examen   </font>\n",
        "\n",
        "Lea cuidadosamente las siguientes indicaciones antes de comenzar el examen:\n",
        "\n",
        "- Para resolver el examen edite este mismo archivo y renómbrelo de la siguiente manera: *Examen1_ApellidoNombre*, donde *ApellidoNombre* corresponde a su apellido paterno con la inicial en mayúscula, seguido de su primer nombre con la inicial en mayúscula **sin acentos**. Por ejemplo, en mi caso el nombre del archivo sería Examen1_LopezMichel.\n",
        "- Resuelva los puntos en el espacio provisto. Si requiere agregar más celdas para código o escritura, hágalo.\n",
        "- Recuerde que también se está evaluando su capacidad de interpretar los resultados. Escriba sus interpretaciones/conclusiones en celdas utilizando *Markdown*.\n",
        "- No se resuelven dudas de ningún tipo por los profesores de la asignatura. Por favor, absténgase de preguntar.\n",
        "\n",
        "<font color = blue> - El formato de presentación de todo el examen en general debe ser adecuado. Use tamaños de letra, colores, etiquetas, etcétera. <font>\n"
      ]
    },
    {
      "cell_type": "code",
      "metadata": {
        "id": "-iLngnIsTD79",
        "colab_type": "code",
        "colab": {}
      },
      "source": [
        "%matplotlib inline \n",
        "\n",
        "import sympy as sym\n",
        "import numpy as np\n",
        "import matplotlib.pylab as plt\n",
        "\n",
        "from sympy import init_printing; init_printing(use_latex='mathjax')\n",
        "from IPython.display import display\n",
        "from IPython.display import HTML\n",
        "from scipy.integrate import odeint\n",
        "\n",
        "from sympy import *\n",
        "from scipy.optimize import linprog\n",
        "\n",
        "\n",
        "from ipywidgets import *\n",
        "\n",
        "Ley_Newton_enfriamiento='<iframe src=https://es.wikipedia.org/wiki/Ley_del_enfriamiento_de_Newton?useformat=mobile width=700 height=350></iframe>'\n",
        "Torricelli='<iframe src=https://en.wikipedia.org/wiki/Torricelli%27s_law?useformat=mobile width=700 height=350></iframe>'\n",
        "Caidalibre ='<iframe src=https://es.wikipedia.org/wiki/Ca%C3%ADda_libre?useformat=mobile width=700 height=350></iframe>'\n",
        "\n",
        "sym.var('k t x')\n",
        "\n",
        "T = sym.Function('T')"
      ],
      "execution_count": 0,
      "outputs": []
    },
    {
      "cell_type": "markdown",
      "metadata": {
        "id": "i23Q0MFGTD8A",
        "colab_type": "text"
      },
      "source": [
        "# <font color =blue>Primer punto.</font>\n",
        "\n",
        "## Introducción al problema. \n",
        "\n",
        "### Ley de Newton del enfriamiento\n",
        "\n",
        "La ley empírica de Newton, relativa al enfriamiento de un objeto, se expresa con la ecuación diferencial lineal de primer orden\n",
        "\n",
        "$$\\frac{dT}{dt} = k(T - Tm) $$\n",
        "\n",
        "donde $k$ es una constante de proporcionalidad, $T(t)$ es la temperatura del objeto cuando $t > 0$\n",
        "y $T_m$ es la temperatura ambiente; o sea, la temperatura del medio que rodea al objeto. \n",
        "\n",
        "Supondremos que $T_m$ es constante."
      ]
    },
    {
      "cell_type": "markdown",
      "metadata": {
        "id": "fGKQ6ymYTD8A",
        "colab_type": "text"
      },
      "source": [
        "### Para más información revise la siguiente pagina. "
      ]
    },
    {
      "cell_type": "code",
      "metadata": {
        "id": "5WPghaVATD8B",
        "colab_type": "code",
        "outputId": "7c49a8e0-3ceb-4285-c8c1-6217262dc05c",
        "colab": {
          "referenced_widgets": [
            "c37c1ab6a1154e9894a1c72870890839"
          ]
        }
      },
      "source": [
        "HTML(Ley_Newton_enfriamiento)"
      ],
      "execution_count": 0,
      "outputs": [
        {
          "output_type": "display_data",
          "data": {
            "application/vnd.jupyter.widget-view+json": {
              "model_id": "c37c1ab6a1154e9894a1c72870890839",
              "version_major": 2,
              "version_minor": 0
            },
            "text/plain": [
              "HTML(value='<iframe src=https://es.wikipedia.org/wiki/Ley_del_enfriamiento_de_Newton?useformat=mobile width=70…"
            ]
          },
          "metadata": {
            "tags": []
          }
        }
      ]
    },
    {
      "cell_type": "markdown",
      "metadata": {
        "id": "l0ISue4aTD8E",
        "colab_type": "text"
      },
      "source": [
        "## <font color = red> Problema 1 <font>\n",
        "\n",
        "### ¿Cuánto esperar para tomar el café?\n",
        "\n",
        "Primero calentamos el agua a $80°C$. Posteriormente agregamos café al vaso con el agua caliente. Después realizamos la medición de la temperatura ambiente, la cual fue de $24°C$. Realiza las siguientes actividades:\n",
        "]\n",
        "1. (20 puntos) Simula el sistema en un tiempo de $0$ a $120$ unidades de tiempo  con una constante de proporcionalidad $k=-0.0565$,  \n",
        "2. (15 puntos) \n",
        "    - (10 puntos) Grafique la solución.\n",
        "    - (5 puntos) Supoga que cada unidad de tiempo corresponde a un minuto. ¿En que tiempo aproximadamente la temperatura es menor a $30°C$?\n",
        "3. (15 puntos)\n",
        "    - (10 puntos) ¿Qué interpretación puedes decir para valores de $k >0$?\n",
        "    - (5  puntos) Busca una constante de proporcionalidad $k$ en un rango ( de $-0.2$ a $0.2$ con incremento de 0.01), para la cual el cafe tiene una temperatura menor de $30°C$ en un tiempo a 20 minutos."
      ]
    },
    {
      "cell_type": "code",
      "metadata": {
        "id": "1LcC7JPXTs9J",
        "colab_type": "code",
        "colab": {}
      },
      "source": [
        ""
      ],
      "execution_count": 0,
      "outputs": []
    },
    {
      "cell_type": "code",
      "metadata": {
        "id": "TO5XEwWrTD8E",
        "colab_type": "code",
        "outputId": "fd1f54bc-fd4d-403e-b5ad-6881b4926a2f",
        "colab": {}
      },
      "source": [
        " "
      ],
      "execution_count": 0,
      "outputs": [
        {
          "output_type": "display_data",
          "data": {
            "image/png": "[encoded data removed]",
            "text/plain": [
              "<Figure size 432x288 with 1 Axes>"
            ]
          },
          "metadata": {
            "tags": [],
            "needs_background": "light"
          }
        }
      ]
    },
    {
      "cell_type": "code",
      "metadata": {
        "id": "XB4QMP8HTtow",
        "colab_type": "code",
        "outputId": "9776511e-afa6-4c13-ebdf-96837a1916e3",
        "colab": {
          "base_uri": "https://localhost:8080/",
          "height": 598
        }
      },
      "source": [
        "import matplotlib.pyplot as plt\n",
        "import numpy as np\n",
        "from scipy import integrate\n",
        "\n",
        "def f_T(k,t):\n",
        "    return 56*np.exp(k*t) + 24\n",
        "\n",
        "def f_t(k,T):\n",
        "    return ln((T-24)/56)/k\n",
        "\n",
        "k = -0.0565\n",
        "t = np.linspace(0,120,120)\n",
        "\n",
        "#print(f_t(k,35))\n",
        "fig, axes=plt.subplots()\n",
        "#axes.plot(k,sol,'--')\n",
        "axes.plot(t,f_T(k,t))\n",
        "axes.plot([0,f_t(k,29.99)],[29.99,29.99],'--')\n",
        "axes.text(f_t(k,29.99),29.99,str(f_t(k,29.99)))\n",
        "plt.xlabel('Tiempo(min)')\n",
        "plt.ylabel('Temperatura(C°)')\n",
        "plt.show()"
      ],
      "execution_count": 0,
      "outputs": [
        {
          "output_type": "error",
          "ename": "NameError",
          "evalue": "ignored",
          "traceback": [
            "\u001b[0;31m---------------------------------------------------------------------------\u001b[0m",
            "\u001b[0;31mNameError\u001b[0m                                 Traceback (most recent call last)",
            "\u001b[0;32m<ipython-input-2-910fb299c97e>\u001b[0m in \u001b[0;36m<module>\u001b[0;34m()\u001b[0m\n\u001b[1;32m     16\u001b[0m \u001b[0;31m#axes.plot(k,sol,'--')\u001b[0m\u001b[0;34m\u001b[0m\u001b[0;34m\u001b[0m\u001b[0;34m\u001b[0m\u001b[0m\n\u001b[1;32m     17\u001b[0m \u001b[0maxes\u001b[0m\u001b[0;34m.\u001b[0m\u001b[0mplot\u001b[0m\u001b[0;34m(\u001b[0m\u001b[0mt\u001b[0m\u001b[0;34m,\u001b[0m\u001b[0mf_T\u001b[0m\u001b[0;34m(\u001b[0m\u001b[0mk\u001b[0m\u001b[0;34m,\u001b[0m\u001b[0mt\u001b[0m\u001b[0;34m)\u001b[0m\u001b[0;34m)\u001b[0m\u001b[0;34m\u001b[0m\u001b[0;34m\u001b[0m\u001b[0m\n\u001b[0;32m---> 18\u001b[0;31m \u001b[0maxes\u001b[0m\u001b[0;34m.\u001b[0m\u001b[0mplot\u001b[0m\u001b[0;34m(\u001b[0m\u001b[0;34m[\u001b[0m\u001b[0;36m0\u001b[0m\u001b[0;34m,\u001b[0m\u001b[0mf_t\u001b[0m\u001b[0;34m(\u001b[0m\u001b[0mk\u001b[0m\u001b[0;34m,\u001b[0m\u001b[0;36m29.99\u001b[0m\u001b[0;34m)\u001b[0m\u001b[0;34m]\u001b[0m\u001b[0;34m,\u001b[0m\u001b[0;34m[\u001b[0m\u001b[0;36m29.99\u001b[0m\u001b[0;34m,\u001b[0m\u001b[0;36m29.99\u001b[0m\u001b[0;34m]\u001b[0m\u001b[0;34m,\u001b[0m\u001b[0;34m'--'\u001b[0m\u001b[0;34m)\u001b[0m\u001b[0;34m\u001b[0m\u001b[0;34m\u001b[0m\u001b[0m\n\u001b[0m\u001b[1;32m     19\u001b[0m \u001b[0maxes\u001b[0m\u001b[0;34m.\u001b[0m\u001b[0mtext\u001b[0m\u001b[0;34m(\u001b[0m\u001b[0mf_t\u001b[0m\u001b[0;34m(\u001b[0m\u001b[0mk\u001b[0m\u001b[0;34m,\u001b[0m\u001b[0;36m29.99\u001b[0m\u001b[0;34m)\u001b[0m\u001b[0;34m,\u001b[0m\u001b[0;36m29.99\u001b[0m\u001b[0;34m,\u001b[0m\u001b[0mstr\u001b[0m\u001b[0;34m(\u001b[0m\u001b[0mf_t\u001b[0m\u001b[0;34m(\u001b[0m\u001b[0mk\u001b[0m\u001b[0;34m,\u001b[0m\u001b[0;36m29.99\u001b[0m\u001b[0;34m)\u001b[0m\u001b[0;34m)\u001b[0m\u001b[0;34m)\u001b[0m\u001b[0;34m\u001b[0m\u001b[0;34m\u001b[0m\u001b[0m\n\u001b[1;32m     20\u001b[0m \u001b[0mplt\u001b[0m\u001b[0;34m.\u001b[0m\u001b[0mxlabel\u001b[0m\u001b[0;34m(\u001b[0m\u001b[0;34m'Tiempo(min)'\u001b[0m\u001b[0;34m)\u001b[0m\u001b[0;34m\u001b[0m\u001b[0;34m\u001b[0m\u001b[0m\n",
            "\u001b[0;32m<ipython-input-2-910fb299c97e>\u001b[0m in \u001b[0;36mf_t\u001b[0;34m(k, T)\u001b[0m\n\u001b[1;32m      7\u001b[0m \u001b[0;34m\u001b[0m\u001b[0m\n\u001b[1;32m      8\u001b[0m \u001b[0;32mdef\u001b[0m \u001b[0mf_t\u001b[0m\u001b[0;34m(\u001b[0m\u001b[0mk\u001b[0m\u001b[0;34m,\u001b[0m\u001b[0mT\u001b[0m\u001b[0;34m)\u001b[0m\u001b[0;34m:\u001b[0m\u001b[0;34m\u001b[0m\u001b[0;34m\u001b[0m\u001b[0m\n\u001b[0;32m----> 9\u001b[0;31m     \u001b[0;32mreturn\u001b[0m \u001b[0mln\u001b[0m\u001b[0;34m(\u001b[0m\u001b[0;34m(\u001b[0m\u001b[0mT\u001b[0m\u001b[0;34m-\u001b[0m\u001b[0;36m24\u001b[0m\u001b[0;34m)\u001b[0m\u001b[0;34m/\u001b[0m\u001b[0;36m56\u001b[0m\u001b[0;34m)\u001b[0m\u001b[0;34m/\u001b[0m\u001b[0mk\u001b[0m\u001b[0;34m\u001b[0m\u001b[0;34m\u001b[0m\u001b[0m\n\u001b[0m\u001b[1;32m     10\u001b[0m \u001b[0;34m\u001b[0m\u001b[0m\n\u001b[1;32m     11\u001b[0m \u001b[0mk\u001b[0m \u001b[0;34m=\u001b[0m \u001b[0;34m-\u001b[0m\u001b[0;36m0.0565\u001b[0m\u001b[0;34m\u001b[0m\u001b[0;34m\u001b[0m\u001b[0m\n",
            "\u001b[0;31mNameError\u001b[0m: name 'ln' is not defined"
          ]
        },
        {
          "output_type": "display_data",
          "data": {
            "image/png": "[encoded data removed]",
            "text/plain": [
              "<Figure size 432x288 with 1 Axes>"
            ]
          },
          "metadata": {
            "tags": [],
            "needs_background": "light"
          }
        }
      ]
    },
    {
      "cell_type": "code",
      "metadata": {
        "id": "yIa0bgkoTv2h",
        "colab_type": "code",
        "outputId": "15a5914b-9e66-4d26-da8d-c05d618621a1",
        "colab": {
          "base_uri": "https://localhost:8080/",
          "height": 231
        }
      },
      "source": [
        "k = 0.0565\n",
        "fig, axes=plt.subplots()\n",
        "axes.plot(t,f_T(k,t))\n",
        "plt.xlabel('Time(min)')\n",
        "plt.ylabel('Temperature(C°)')\n",
        "plt.show()\n",
        "print(\"¿qué interpetación puedes decir para valores de k>0: \\nEl Cafe continuara calentandose indefindamente\")\n",
        "k = np.linspace(-0.2,0.2,40)\n",
        "\n",
        "print('\\nPosibles Valores de k que cumplen con el requisito de en 20 min tener tu cafe a menor temperatura que 30C°\\n')\n",
        "for x in k:\n",
        "    if f_T(x,20) < 30:\n",
        "        print('temperatura(C°):',f_T(x,20),'\\tValor de K:',x)"
      ],
      "execution_count": 0,
      "outputs": [
        {
          "output_type": "error",
          "ename": "NameError",
          "evalue": "ignored",
          "traceback": [
            "\u001b[0;31m---------------------------------------------------------------------------\u001b[0m",
            "\u001b[0;31mNameError\u001b[0m                                 Traceback (most recent call last)",
            "\u001b[0;32m<ipython-input-1-834279e809ef>\u001b[0m in \u001b[0;36m<module>\u001b[0;34m()\u001b[0m\n\u001b[1;32m      1\u001b[0m \u001b[0mk\u001b[0m \u001b[0;34m=\u001b[0m \u001b[0;36m0.0565\u001b[0m\u001b[0;34m\u001b[0m\u001b[0;34m\u001b[0m\u001b[0m\n\u001b[0;32m----> 2\u001b[0;31m \u001b[0mfig\u001b[0m\u001b[0;34m,\u001b[0m \u001b[0maxes\u001b[0m\u001b[0;34m=\u001b[0m\u001b[0mplt\u001b[0m\u001b[0;34m.\u001b[0m\u001b[0msubplots\u001b[0m\u001b[0;34m(\u001b[0m\u001b[0;34m)\u001b[0m\u001b[0;34m\u001b[0m\u001b[0;34m\u001b[0m\u001b[0m\n\u001b[0m\u001b[1;32m      3\u001b[0m \u001b[0maxes\u001b[0m\u001b[0;34m.\u001b[0m\u001b[0mplot\u001b[0m\u001b[0;34m(\u001b[0m\u001b[0mt\u001b[0m\u001b[0;34m,\u001b[0m\u001b[0mf_T\u001b[0m\u001b[0;34m(\u001b[0m\u001b[0mk\u001b[0m\u001b[0;34m,\u001b[0m\u001b[0mt\u001b[0m\u001b[0;34m)\u001b[0m\u001b[0;34m)\u001b[0m\u001b[0;34m\u001b[0m\u001b[0;34m\u001b[0m\u001b[0m\n\u001b[1;32m      4\u001b[0m \u001b[0mplt\u001b[0m\u001b[0;34m.\u001b[0m\u001b[0mxlabel\u001b[0m\u001b[0;34m(\u001b[0m\u001b[0;34m'Time(min)'\u001b[0m\u001b[0;34m)\u001b[0m\u001b[0;34m\u001b[0m\u001b[0;34m\u001b[0m\u001b[0m\n\u001b[1;32m      5\u001b[0m \u001b[0mplt\u001b[0m\u001b[0;34m.\u001b[0m\u001b[0mylabel\u001b[0m\u001b[0;34m(\u001b[0m\u001b[0;34m'Temperature(C°)'\u001b[0m\u001b[0;34m)\u001b[0m\u001b[0;34m\u001b[0m\u001b[0;34m\u001b[0m\u001b[0m\n",
            "\u001b[0;31mNameError\u001b[0m: name 'plt' is not defined"
          ]
        }
      ]
    },
    {
      "cell_type": "markdown",
      "metadata": {
        "id": "BVYubXByTD8J",
        "colab_type": "text"
      },
      "source": [
        "## <font color = red> Problema 2 <font>  \n",
        "\n",
        "### ¿Cuánto esperar para comenzar a comer pastel?\n",
        "\n",
        "Al sacar un pastel del horno, su temperatura es $280°C$. Después de $3$ minutos, $2OO°C$. ¿En cuanto tiempo se enfriará hasta la temperatura ambiente de $28°C$? Realiza las siguientes actividades:\n",
        "\n",
        "1. (20 puntos) Simula el sistema en un tiempo de $0$ a $60$ unidades de tiempo  con una constante de proporcionalidad $k=-0.14518$,  \n",
        "2. (15 puntos) \n",
        "    - (10 puntos) Grafique la solución.\n",
        "    - (5 puntos) Supoga que cada unidad de tiempo corresponde a un minuto. ¿En que tiempo aproximadamente la temperatura es menor a $150°C$?\n",
        "3. (15 puntos)\n",
        "    - (10 puntos) ¿Qué interpretación puedes decir para valores de $k >0$?\n",
        "    - (5  puntos) Busca una constante de proporcionalidad $k$ en un rango ( de $-0.2$ a $0.2$ con incremento de 0.01), para la cual el pastel se puede comer a una temperatura menor a $50°C$ en un tiempo a 10 minutos."
      ]
    },
    {
      "cell_type": "code",
      "metadata": {
        "id": "Qqhoe6gXTsGS",
        "colab_type": "code",
        "outputId": "530d214d-44f8-4bd8-e7cf-606dbc340294",
        "colab": {
          "base_uri": "https://localhost:8080/",
          "height": 598
        }
      },
      "source": [
        "import matplotlib.pyplot as plt\n",
        "import numpy as np\n",
        "from scipy import integrate\n",
        "\n",
        "def fder(k,T):\n",
        "    return k(T-28)\n",
        "\n",
        "def f_T(k,t):\n",
        "    return 252*np.exp(k*t) + 28\n",
        "\n",
        "def f_t(k,T):\n",
        "    return ln((T-28)/252)/k\n",
        "\n",
        "k = -0.14518\n",
        "t = np.linspace(0,60,60)\n",
        "\n",
        "#print(f_t(k,35))\n",
        "fig, axes=plt.subplots()\n",
        "#axes.plot(k,sol,'--')\n",
        "axes.plot(t,f_T(k,t))\n",
        "axes.plot([0,f_t(k,149.99)],[149.99,149.99],'--')\n",
        "axes.text(f_t(k,149.99),149.99,str(f_t(k,149.99)))\n",
        "plt.xlabel('Tiempo(min)')\n",
        "plt.ylabel('Temperatura(C°)')\n",
        "plt.show()"
      ],
      "execution_count": 0,
      "outputs": [
        {
          "output_type": "error",
          "ename": "NameError",
          "evalue": "ignored",
          "traceback": [
            "\u001b[0;31m---------------------------------------------------------------------------\u001b[0m",
            "\u001b[0;31mNameError\u001b[0m                                 Traceback (most recent call last)",
            "\u001b[0;32m<ipython-input-4-9b1a03ec3f2a>\u001b[0m in \u001b[0;36m<module>\u001b[0;34m()\u001b[0m\n\u001b[1;32m     19\u001b[0m \u001b[0;31m#axes.plot(k,sol,'--')\u001b[0m\u001b[0;34m\u001b[0m\u001b[0;34m\u001b[0m\u001b[0;34m\u001b[0m\u001b[0m\n\u001b[1;32m     20\u001b[0m \u001b[0maxes\u001b[0m\u001b[0;34m.\u001b[0m\u001b[0mplot\u001b[0m\u001b[0;34m(\u001b[0m\u001b[0mt\u001b[0m\u001b[0;34m,\u001b[0m\u001b[0mf_T\u001b[0m\u001b[0;34m(\u001b[0m\u001b[0mk\u001b[0m\u001b[0;34m,\u001b[0m\u001b[0mt\u001b[0m\u001b[0;34m)\u001b[0m\u001b[0;34m)\u001b[0m\u001b[0;34m\u001b[0m\u001b[0;34m\u001b[0m\u001b[0m\n\u001b[0;32m---> 21\u001b[0;31m \u001b[0maxes\u001b[0m\u001b[0;34m.\u001b[0m\u001b[0mplot\u001b[0m\u001b[0;34m(\u001b[0m\u001b[0;34m[\u001b[0m\u001b[0;36m0\u001b[0m\u001b[0;34m,\u001b[0m\u001b[0mf_t\u001b[0m\u001b[0;34m(\u001b[0m\u001b[0mk\u001b[0m\u001b[0;34m,\u001b[0m\u001b[0;36m149.99\u001b[0m\u001b[0;34m)\u001b[0m\u001b[0;34m]\u001b[0m\u001b[0;34m,\u001b[0m\u001b[0;34m[\u001b[0m\u001b[0;36m149.99\u001b[0m\u001b[0;34m,\u001b[0m\u001b[0;36m149.99\u001b[0m\u001b[0;34m]\u001b[0m\u001b[0;34m,\u001b[0m\u001b[0;34m'--'\u001b[0m\u001b[0;34m)\u001b[0m\u001b[0;34m\u001b[0m\u001b[0;34m\u001b[0m\u001b[0m\n\u001b[0m\u001b[1;32m     22\u001b[0m \u001b[0maxes\u001b[0m\u001b[0;34m.\u001b[0m\u001b[0mtext\u001b[0m\u001b[0;34m(\u001b[0m\u001b[0mf_t\u001b[0m\u001b[0;34m(\u001b[0m\u001b[0mk\u001b[0m\u001b[0;34m,\u001b[0m\u001b[0;36m149.99\u001b[0m\u001b[0;34m)\u001b[0m\u001b[0;34m,\u001b[0m\u001b[0;36m149.99\u001b[0m\u001b[0;34m,\u001b[0m\u001b[0mstr\u001b[0m\u001b[0;34m(\u001b[0m\u001b[0mf_t\u001b[0m\u001b[0;34m(\u001b[0m\u001b[0mk\u001b[0m\u001b[0;34m,\u001b[0m\u001b[0;36m149.99\u001b[0m\u001b[0;34m)\u001b[0m\u001b[0;34m)\u001b[0m\u001b[0;34m)\u001b[0m\u001b[0;34m\u001b[0m\u001b[0;34m\u001b[0m\u001b[0m\n\u001b[1;32m     23\u001b[0m \u001b[0mplt\u001b[0m\u001b[0;34m.\u001b[0m\u001b[0mxlabel\u001b[0m\u001b[0;34m(\u001b[0m\u001b[0;34m'Tiempo(min)'\u001b[0m\u001b[0;34m)\u001b[0m\u001b[0;34m\u001b[0m\u001b[0;34m\u001b[0m\u001b[0m\n",
            "\u001b[0;32m<ipython-input-4-9b1a03ec3f2a>\u001b[0m in \u001b[0;36mf_t\u001b[0;34m(k, T)\u001b[0m\n\u001b[1;32m     10\u001b[0m \u001b[0;34m\u001b[0m\u001b[0m\n\u001b[1;32m     11\u001b[0m \u001b[0;32mdef\u001b[0m \u001b[0mf_t\u001b[0m\u001b[0;34m(\u001b[0m\u001b[0mk\u001b[0m\u001b[0;34m,\u001b[0m\u001b[0mT\u001b[0m\u001b[0;34m)\u001b[0m\u001b[0;34m:\u001b[0m\u001b[0;34m\u001b[0m\u001b[0;34m\u001b[0m\u001b[0m\n\u001b[0;32m---> 12\u001b[0;31m     \u001b[0;32mreturn\u001b[0m \u001b[0mln\u001b[0m\u001b[0;34m(\u001b[0m\u001b[0;34m(\u001b[0m\u001b[0mT\u001b[0m\u001b[0;34m-\u001b[0m\u001b[0;36m28\u001b[0m\u001b[0;34m)\u001b[0m\u001b[0;34m/\u001b[0m\u001b[0;36m252\u001b[0m\u001b[0;34m)\u001b[0m\u001b[0;34m/\u001b[0m\u001b[0mk\u001b[0m\u001b[0;34m\u001b[0m\u001b[0;34m\u001b[0m\u001b[0m\n\u001b[0m\u001b[1;32m     13\u001b[0m \u001b[0;34m\u001b[0m\u001b[0m\n\u001b[1;32m     14\u001b[0m \u001b[0mk\u001b[0m \u001b[0;34m=\u001b[0m \u001b[0;34m-\u001b[0m\u001b[0;36m0.14518\u001b[0m\u001b[0;34m\u001b[0m\u001b[0;34m\u001b[0m\u001b[0m\n",
            "\u001b[0;31mNameError\u001b[0m: name 'ln' is not defined"
          ]
        },
        {
          "output_type": "display_data",
          "data": {
            "image/png": "[encoded data removed]",
            "text/plain": [
              "<Figure size 432x288 with 1 Axes>"
            ]
          },
          "metadata": {
            "tags": [],
            "needs_background": "light"
          }
        }
      ]
    },
    {
      "cell_type": "code",
      "metadata": {
        "id": "UH4bhZe-T_Rz",
        "colab_type": "code",
        "outputId": "d2f4a41f-582b-4daf-c8fc-8c950160b26f",
        "colab": {
          "base_uri": "https://localhost:8080/",
          "height": 324
        }
      },
      "source": [
        "k = 0.14518\n",
        "fig, axes=plt.subplots()\n",
        "axes.plot(t,f_T(k,t))\n",
        "plt.xlabel('Tiempo(min)')\n",
        "plt.ylabel('Temperatura(C°)')\n",
        "plt.show()\n",
        "print(\"¿qué interpetación puedes decir para valores de k>0: \\nEl Pastel se calentara de manera indefinida\")\n",
        "k = np.linspace(-0.2,0.2,40)\n",
        "\n",
        "\n",
        "\n"
      ],
      "execution_count": 0,
      "outputs": [
        {
          "output_type": "display_data",
          "data": {
            "image/png": "[encoded data removed]",
            "text/plain": [
              "<Figure size 432x288 with 1 Axes>"
            ]
          },
          "metadata": {
            "tags": [],
            "needs_background": "light"
          }
        },
        {
          "output_type": "stream",
          "text": [
            "¿qué interpetación puedes decir para valores de k>0: \n",
            "El Pastel se calentara de manera indefinida\n"
          ],
          "name": "stdout"
        }
      ]
    },
    {
      "cell_type": "code",
      "metadata": {
        "id": "1ozXfdjCTD8H",
        "colab_type": "code",
        "outputId": "81bb1e0a-5647-456a-9443-70daf88c565a",
        "colab": {
          "base_uri": "https://localhost:8080/",
          "height": 598
        }
      },
      "source": [
        "import matplotlib.pyplot as plt\n",
        "import numpy as np\n",
        "from scipy import integrate\n",
        "\n",
        "def f_T(k,t):\n",
        "    return 56*np.exp(k*t) + 24\n",
        "\n",
        "def f_t(k,T):\n",
        "    return ln((T-24)/56)/k\n",
        "\n",
        "k = -0.0565\n",
        "t = np.linspace(0,120,120)\n",
        "\n",
        "#print(f_t(k,35))\n",
        "fig, axes=plt.subplots()\n",
        "#axes.plot(k,sol,'--')\n",
        "axes.plot(t,f_T(k,t))\n",
        "axes.plot([0,f_t(k,29.99)],[29.99,29.99],'--')\n",
        "axes.text(f_t(k,29.99),29.99,str(f_t(k,29.99)))\n",
        "plt.xlabel('Tiempo(min)')\n",
        "plt.ylabel('Temperatura(C°)')\n",
        "plt.show()"
      ],
      "execution_count": 0,
      "outputs": [
        {
          "output_type": "error",
          "ename": "NameError",
          "evalue": "ignored",
          "traceback": [
            "\u001b[0;31m---------------------------------------------------------------------------\u001b[0m",
            "\u001b[0;31mNameError\u001b[0m                                 Traceback (most recent call last)",
            "\u001b[0;32m<ipython-input-1-910fb299c97e>\u001b[0m in \u001b[0;36m<module>\u001b[0;34m()\u001b[0m\n\u001b[1;32m     16\u001b[0m \u001b[0;31m#axes.plot(k,sol,'--')\u001b[0m\u001b[0;34m\u001b[0m\u001b[0;34m\u001b[0m\u001b[0;34m\u001b[0m\u001b[0m\n\u001b[1;32m     17\u001b[0m \u001b[0maxes\u001b[0m\u001b[0;34m.\u001b[0m\u001b[0mplot\u001b[0m\u001b[0;34m(\u001b[0m\u001b[0mt\u001b[0m\u001b[0;34m,\u001b[0m\u001b[0mf_T\u001b[0m\u001b[0;34m(\u001b[0m\u001b[0mk\u001b[0m\u001b[0;34m,\u001b[0m\u001b[0mt\u001b[0m\u001b[0;34m)\u001b[0m\u001b[0;34m)\u001b[0m\u001b[0;34m\u001b[0m\u001b[0;34m\u001b[0m\u001b[0m\n\u001b[0;32m---> 18\u001b[0;31m \u001b[0maxes\u001b[0m\u001b[0;34m.\u001b[0m\u001b[0mplot\u001b[0m\u001b[0;34m(\u001b[0m\u001b[0;34m[\u001b[0m\u001b[0;36m0\u001b[0m\u001b[0;34m,\u001b[0m\u001b[0mf_t\u001b[0m\u001b[0;34m(\u001b[0m\u001b[0mk\u001b[0m\u001b[0;34m,\u001b[0m\u001b[0;36m29.99\u001b[0m\u001b[0;34m)\u001b[0m\u001b[0;34m]\u001b[0m\u001b[0;34m,\u001b[0m\u001b[0;34m[\u001b[0m\u001b[0;36m29.99\u001b[0m\u001b[0;34m,\u001b[0m\u001b[0;36m29.99\u001b[0m\u001b[0;34m]\u001b[0m\u001b[0;34m,\u001b[0m\u001b[0;34m'--'\u001b[0m\u001b[0;34m)\u001b[0m\u001b[0;34m\u001b[0m\u001b[0;34m\u001b[0m\u001b[0m\n\u001b[0m\u001b[1;32m     19\u001b[0m \u001b[0maxes\u001b[0m\u001b[0;34m.\u001b[0m\u001b[0mtext\u001b[0m\u001b[0;34m(\u001b[0m\u001b[0mf_t\u001b[0m\u001b[0;34m(\u001b[0m\u001b[0mk\u001b[0m\u001b[0;34m,\u001b[0m\u001b[0;36m29.99\u001b[0m\u001b[0;34m)\u001b[0m\u001b[0;34m,\u001b[0m\u001b[0;36m29.99\u001b[0m\u001b[0;34m,\u001b[0m\u001b[0mstr\u001b[0m\u001b[0;34m(\u001b[0m\u001b[0mf_t\u001b[0m\u001b[0;34m(\u001b[0m\u001b[0mk\u001b[0m\u001b[0;34m,\u001b[0m\u001b[0;36m29.99\u001b[0m\u001b[0;34m)\u001b[0m\u001b[0;34m)\u001b[0m\u001b[0;34m)\u001b[0m\u001b[0;34m\u001b[0m\u001b[0;34m\u001b[0m\u001b[0m\n\u001b[1;32m     20\u001b[0m \u001b[0mplt\u001b[0m\u001b[0;34m.\u001b[0m\u001b[0mxlabel\u001b[0m\u001b[0;34m(\u001b[0m\u001b[0;34m'Tiempo(min)'\u001b[0m\u001b[0;34m)\u001b[0m\u001b[0;34m\u001b[0m\u001b[0;34m\u001b[0m\u001b[0m\n",
            "\u001b[0;32m<ipython-input-1-910fb299c97e>\u001b[0m in \u001b[0;36mf_t\u001b[0;34m(k, T)\u001b[0m\n\u001b[1;32m      7\u001b[0m \u001b[0;34m\u001b[0m\u001b[0m\n\u001b[1;32m      8\u001b[0m \u001b[0;32mdef\u001b[0m \u001b[0mf_t\u001b[0m\u001b[0;34m(\u001b[0m\u001b[0mk\u001b[0m\u001b[0;34m,\u001b[0m\u001b[0mT\u001b[0m\u001b[0;34m)\u001b[0m\u001b[0;34m:\u001b[0m\u001b[0;34m\u001b[0m\u001b[0;34m\u001b[0m\u001b[0m\n\u001b[0;32m----> 9\u001b[0;31m     \u001b[0;32mreturn\u001b[0m \u001b[0mln\u001b[0m\u001b[0;34m(\u001b[0m\u001b[0;34m(\u001b[0m\u001b[0mT\u001b[0m\u001b[0;34m-\u001b[0m\u001b[0;36m24\u001b[0m\u001b[0;34m)\u001b[0m\u001b[0;34m/\u001b[0m\u001b[0;36m56\u001b[0m\u001b[0;34m)\u001b[0m\u001b[0;34m/\u001b[0m\u001b[0mk\u001b[0m\u001b[0;34m\u001b[0m\u001b[0;34m\u001b[0m\u001b[0m\n\u001b[0m\u001b[1;32m     10\u001b[0m \u001b[0;34m\u001b[0m\u001b[0m\n\u001b[1;32m     11\u001b[0m \u001b[0mk\u001b[0m \u001b[0;34m=\u001b[0m \u001b[0;34m-\u001b[0m\u001b[0;36m0.0565\u001b[0m\u001b[0;34m\u001b[0m\u001b[0;34m\u001b[0m\u001b[0m\n",
            "\u001b[0;31mNameError\u001b[0m: name 'ln' is not defined"
          ]
        },
        {
          "output_type": "display_data",
          "data": {
            "image/png": "[encoded data removed]",
            "text/plain": [
              "<Figure size 432x288 with 1 Axes>"
            ]
          },
          "metadata": {
            "tags": [],
            "needs_background": "light"
          }
        }
      ]
    },
    {
      "cell_type": "code",
      "metadata": {
        "id": "QgIRoA-9TD8K",
        "colab_type": "code",
        "outputId": "d8b15608-ea6b-4c1a-ed30-901e9c8d8189",
        "colab": {}
      },
      "source": [
        ""
      ],
      "execution_count": 0,
      "outputs": [
        {
          "output_type": "display_data",
          "data": {
            "image/png": "[encoded data removed]",
            "text/plain": [
              "<Figure size 432x288 with 1 Axes>"
            ]
          },
          "metadata": {
            "tags": [],
            "needs_background": "light"
          }
        }
      ]
    },
    {
      "cell_type": "code",
      "metadata": {
        "id": "HvPiqaUGTD8M",
        "colab_type": "code",
        "colab": {}
      },
      "source": [
        "# Solucion opcion 3  :  "
      ],
      "execution_count": 0,
      "outputs": []
    },
    {
      "cell_type": "code",
      "metadata": {
        "id": "9qZBWW_fTD8Q",
        "colab_type": "code",
        "colab": {}
      },
      "source": [
        ""
      ],
      "execution_count": 0,
      "outputs": []
    },
    {
      "cell_type": "code",
      "metadata": {
        "id": "5rbYguJ-TD8S",
        "colab_type": "code",
        "colab": {}
      },
      "source": [
        ""
      ],
      "execution_count": 0,
      "outputs": []
    },
    {
      "cell_type": "markdown",
      "metadata": {
        "id": "k7myiLstTD8U",
        "colab_type": "text"
      },
      "source": [
        "# <font color =blue>Segundo punto.</font>\n",
        "\n",
        "## Introducción al problema. \n",
        "\n",
        "### Caída libre\n",
        "\n",
        "En la caída libre ideal, se desprecia la resistencia aerodinámica que presenta el aire al movimiento del cuerpo, analizando lo que pasaría en el vacío. En esas condiciones, la aceleración que adquiriría el cuerpo sería debida exclusivamente a la gravedad, siendo independiente de su masa.\n",
        "\n",
        "$$\n",
        "\\begin{eqnarray}\n",
        "\\frac{ds}{dt} &=& v \\\\\n",
        "\\frac{dv}{dt} &=& -g\n",
        "\\end{eqnarray}\n",
        "$$\n",
        "\n",
        "O visto el sistema en forma canónica\n",
        "\n",
        "$$\n",
        "\\begin{eqnarray}\n",
        "\\dot{x}_1 &=& x_2 \\\\\n",
        "\\dot{x}_2 &=& -g\n",
        "\\end{eqnarray}\n",
        "$$\n"
      ]
    },
    {
      "cell_type": "markdown",
      "metadata": {
        "id": "IALGlQUfTD8U",
        "colab_type": "text"
      },
      "source": [
        "### Para más información revise la siguiente pagina. "
      ]
    },
    {
      "cell_type": "code",
      "metadata": {
        "scrolled": true,
        "id": "cGyRHzu7TD8V",
        "colab_type": "code",
        "outputId": "738b137f-8336-4fcf-e65b-ee089af189c0",
        "colab": {}
      },
      "source": [
        "HTML(Caidalibre)"
      ],
      "execution_count": 0,
      "outputs": [
        {
          "output_type": "display_data",
          "data": {
            "application/vnd.jupyter.widget-view+json": {
              "model_id": "7efbcb7ca1ff43b18713f76ef0b19242",
              "version_major": 2,
              "version_minor": 0
            },
            "text/plain": [
              "HTML(value='<iframe src=https://es.wikipedia.org/wiki/Ca%C3%ADda_libre?useformat=mobile width=700 height=350><…"
            ]
          },
          "metadata": {
            "tags": []
          }
        }
      ]
    },
    {
      "cell_type": "markdown",
      "metadata": {
        "id": "4M6Zl6z_TD8X",
        "colab_type": "text"
      },
      "source": [
        "## <font color = red> Problema 3 <font>\n",
        "\n",
        "### Deja caer una pelota\n",
        "\n",
        "Desde un edificio de altura de $314$ metros se deja caer una pelota, que tarda 8 segundos en llegar al piso. ¿con que velocidad impacta la pelota contra el piso?\n",
        "\n",
        "\n",
        "1. (20 puntos) Simula el sistema en un tiempo de $0$ a $8$ unidades de tiempo  con una constante de gravedad $g=-9.8$,  \n",
        "2. (15 puntos) \n",
        "    - (10 puntos) Grafique la solución.\n",
        "    - (5 puntos) Supoga que cada unidad de tiempo corresponde a un segundo. ¿En que tiempo aproximadamente la pelota esta a la mitad del edificio?\n",
        "3. (15 puntos)\n",
        "    - (10 puntos) ¿Qué interpretación puedes decir para una posicion inicial de $314 m$ y una velocidad de $30 m/s$ ?\n",
        "    - (5  puntos) ¿Que altura aproximadamente tendra en $10s$ para el incisio anterior?\n",
        "\n",
        "\n",
        "\n"
      ]
    },
    {
      "cell_type": "code",
      "metadata": {
        "id": "vYVDCmjTTD8Y",
        "colab_type": "code",
        "outputId": "d7d92e72-2409-4cc2-ddec-167ae1d288dc",
        "colab": {}
      },
      "source": [
        ""
      ],
      "execution_count": 0,
      "outputs": [
        {
          "output_type": "execute_result",
          "data": {
            "text/plain": [
              "Text(0, 0.5, 'Velocidad (v)')"
            ]
          },
          "metadata": {
            "tags": []
          },
          "execution_count": 11
        },
        {
          "output_type": "display_data",
          "data": {
            "image/png": "[encoded data removed]",
            "text/plain": [
              "<Figure size 432x288 with 2 Axes>"
            ]
          },
          "metadata": {
            "tags": [],
            "needs_background": "light"
          }
        }
      ]
    },
    {
      "cell_type": "code",
      "metadata": {
        "id": "NRCV1tA1TD8a",
        "colab_type": "code",
        "outputId": "64949edb-30bb-420e-a598-2135afb0d23f",
        "colab": {
          "base_uri": "https://localhost:8080/",
          "height": 541
        }
      },
      "source": [
        "import matplotlib.pyplot as plt\n",
        "import numpy as np\n",
        "from scipy import integrate\n",
        "\n",
        "def velocity(g,h):\n",
        "    return np.sqrt(2*g*h)\n",
        "\n",
        "def time(g,h):\n",
        "    return np.sqrt((2*h)/g)\n",
        "\n",
        "\n",
        "g= 9.8\n",
        "h=np.linspace(0,314,314)\n",
        "vo= 30\n",
        "t = np.linspace(0,8,8)\n",
        "tf = np.linspace(0,10,10)\n",
        "\n",
        "fig, axes=plt.subplots()\n",
        "axes.plot(time(g,h),velocity(g,h))\n",
        "plt.xlabel('Tiempo(seg)')\n",
        "plt.ylabel('Velocidad(m/s^2)')\n",
        "plt.show()\n",
        "\n",
        "fig, axes=plt.subplots()\n",
        "axes.plot(time(g,h),h)\n",
        "axes.plot([0,time(g,157)],[157,157])\n",
        "axes.text(time(g,157),157,str(time(g,157)))\n",
        "plt.xlabel('Tiempo(seg)')\n",
        "plt.ylabel('Distancia(m)')\n",
        "plt.show()"
      ],
      "execution_count": 0,
      "outputs": [
        {
          "output_type": "display_data",
          "data": {
            "image/png": "[encoded data removed]",
            "text/plain": [
              "<Figure size 432x288 with 1 Axes>"
            ]
          },
          "metadata": {
            "tags": [],
            "needs_background": "light"
          }
        },
        {
          "output_type": "display_data",
          "data": {
            "image/png": "[encoded data removed]",
            "text/plain": [
              "<Figure size 432x288 with 1 Axes>"
            ]
          },
          "metadata": {
            "tags": [],
            "needs_background": "light"
          }
        }
      ]
    },
    {
      "cell_type": "code",
      "metadata": {
        "id": "_IOqp_bcTD8c",
        "colab_type": "code",
        "colab": {}
      },
      "source": [
        "# Solucion opcion 3"
      ],
      "execution_count": 0,
      "outputs": []
    },
    {
      "cell_type": "markdown",
      "metadata": {
        "id": "AqaGxwu5TD8e",
        "colab_type": "text"
      },
      "source": [
        "# <font color =blue>Tercer punto.</font>\n",
        "\n",
        "## Introducción al problema. \n",
        "\n",
        "## Drenado de un tanque (Ley de Torricelli)\n",
        "\n",
        "En hidrodinámica, la ley de Torricelli establece que la velocidad\n",
        "$v$ de flujo de salida de agua a través de un orificio plano ubicado en la parte inferior\n",
        "de un tanque lleno hasta una altura $h$ será igual a la velocidad que un cuerpo (en este caso\n",
        "una gota de agua) adquiriría en caída libre desde una altura $h$; es decir, $v = \\sqrt{2gh}$, donde $g$ es la aceleración debida a la gravedad.\n",
        "\n",
        "\n",
        "Suponga que un tanque lleno de agua puede drenar mediante un orificio bajo la influencia de la gravedad. Deseamos encontrar la altura $h$ del agua restante en el tanque en el tiempo $t$.\n",
        "\n",
        "Si el área del orificio es $A_h$ (en $m^2$) y la velocidad del agua que sale del tanque es $v = \\sqrt{2gh}$ (en m/s), entonces el volumen del agua que abandona el tanque por segundo es $A_h \\sqrt{2gh}$ (en $m^3$/s). De este modo, si $V(t)$ indica el volumen del agua que hay en el tanque en el tiempo $t$, la ecuación diferencial deseada para la altura del agua en el tiempo t:\n",
        "\n",
        "$$\\frac{dh}{dt} = - \\frac{A_h}{A_w} \\sqrt{2gh} $$\n",
        "\n",
        "\n",
        "Donde $A_w$ (en $m^2$) representa el área constante de la superficie superior del agua.\n",
        "\n",
        "Observe que aquí ignoramos la posibilidad de fricción en el orificio, la cual puede ocasionar una reducción en la velocidad del flujo en\n",
        "dicho lugar\n",
        "\n"
      ]
    },
    {
      "cell_type": "code",
      "metadata": {
        "id": "pER660TA9y_I",
        "colab_type": "code",
        "outputId": "97982136-a5fb-426e-8083-93d9f7017fdc",
        "colab": {
          "base_uri": "https://localhost:8080/",
          "height": 330
        }
      },
      "source": [
        "#Respuesta inciso 1 y 2\n",
        "import matplotlib.pyplot as plt\n",
        "import numpy as np\n",
        "from scipy.integrate import odeint\n",
        "%matplotlib inline\n",
        "def tanque(Ah, Aw, h0):\n",
        "    g = 9.81\n",
        "    def velocidad(h,t):\n",
        "        return -(Ah/Aw)*np.sqrt(2*g*h)\n",
        "    t = np.linspace(0,6.5)\n",
        "    h_t = odeint(velocidad,h0,t)\n",
        "    \n",
        "    plt.plot(t,h_t)\n",
        "    plt.xlabel('time (min)')\n",
        "    plt.ylabel('height (mts)')\n",
        "    plt.grid()\n",
        "    plt.show()\n",
        "tanque(1,5,10)\n",
        "print(\"Con las condiciones dadas, podemos deducir que la altura será de 2 metros cuando el tiempo sea aproximadamente 4 minutos.\")\n"
      ],
      "execution_count": 0,
      "outputs": [
        {
          "output_type": "stream",
          "text": [
            "/usr/local/lib/python3.6/dist-packages/ipykernel_launcher.py:9: RuntimeWarning: invalid value encountered in sqrt\n",
            "  if __name__ == '__main__':\n"
          ],
          "name": "stderr"
        },
        {
          "output_type": "display_data",
          "data": {
            "image/png": "[encoded data removed]",
            "text/plain": [
              "<Figure size 432x288 with 1 Axes>"
            ]
          },
          "metadata": {
            "tags": [],
            "needs_background": "light"
          }
        },
        {
          "output_type": "stream",
          "text": [
            "Con las condiciones dadas, podemos deducir que la altura será de 2 metros cuando el tiempo sea aproximadamente 4 minutos.\n"
          ],
          "name": "stdout"
        }
      ]
    },
    {
      "cell_type": "markdown",
      "metadata": {
        "id": "UncacPJ-TD8e",
        "colab_type": "text"
      },
      "source": [
        "### Para más información revise la siguiente pagina. "
      ]
    },
    {
      "cell_type": "code",
      "metadata": {
        "id": "MhegPbZGTD8f",
        "colab_type": "code",
        "outputId": "04becc18-3864-4eb7-900b-de2cd41e5adb",
        "colab": {}
      },
      "source": [
        "HTML(Torricelli)"
      ],
      "execution_count": 0,
      "outputs": [
        {
          "output_type": "display_data",
          "data": {
            "application/vnd.jupyter.widget-view+json": {
              "model_id": "df1deaca58234a72b973917739bdd71e",
              "version_major": 2,
              "version_minor": 0
            },
            "text/plain": [
              "HTML(value='<iframe src=https://en.wikipedia.org/wiki/Torricelli%27s_law?useformat=mobile width=700 height=350…"
            ]
          },
          "metadata": {
            "tags": []
          }
        }
      ]
    },
    {
      "cell_type": "code",
      "metadata": {
        "id": "yy-_Z_3hTD8h",
        "colab_type": "code",
        "colab": {}
      },
      "source": [
        ""
      ],
      "execution_count": 0,
      "outputs": []
    },
    {
      "cell_type": "markdown",
      "metadata": {
        "id": "p-LMgNtXTD8j",
        "colab_type": "text"
      },
      "source": [
        "## <font color = red> Problema 4 <font>\n",
        "\n",
        "### Drenado de un tanque \n",
        "\n",
        "Concidere un cilindro circular con un área constante de $A_w = 5 m^2$, en la parte inferior contiene un orificio de área $A_h = 1 m^2$ el cual podemos estar regulando la salida del liquido. En el interior del tanque se encuentra un liquido el cual tiene una altura inicial en el tiempo $0$ de $h(0)= 10 m$. Realiza las siguientes actividades:\n",
        "\n",
        "1. (20 puntos) Simula el sistema en un tiempo de $0$ a $6.5$ unidades de tiempo,  \n",
        "2. (15 puntos) \n",
        "    - (10 puntos) Grafique la solución.\n",
        "    - (5 puntos) Supoga que cada unidad de tiempo corresponde a un minuto. ¿En que tiempo aproximadamente la altura del liquido alcanza una altura de $h=2 m$?\n",
        "3. (15 puntos)\n",
        "    - (10 puntos) ¿Qué interpretación puedes decir si el signo de la ecuación fuera positivo?\n",
        "    - (5  puntos)  ¿Si el área del orificio $A_h$ es menor a $1 m^2$ que implicaria? Realiza una simulacion y grafica la solución para un orificio de $A_h = .5 m$ "
      ]
    },
    {
      "cell_type": "code",
      "metadata": {
        "id": "HEkTXo9-TD8k",
        "colab_type": "code",
        "outputId": "9f4537b4-5f66-4d4e-d428-d382562125fa",
        "colab": {}
      },
      "source": [
        ""
      ],
      "execution_count": 0,
      "outputs": [
        {
          "output_type": "display_data",
          "data": {
            "image/png": "[encoded data removed]",
            "text/plain": [
              "<Figure size 432x288 with 1 Axes>"
            ]
          },
          "metadata": {
            "tags": [],
            "needs_background": "light"
          }
        }
      ]
    },
    {
      "cell_type": "code",
      "metadata": {
        "scrolled": true,
        "id": "v3w-p2T_TD8m",
        "colab_type": "code",
        "outputId": "8ea4c278-31b0-4dad-e313-7678b6ba3cb4",
        "colab": {}
      },
      "source": [
        ""
      ],
      "execution_count": 0,
      "outputs": [
        {
          "output_type": "display_data",
          "data": {
            "image/png": "[encoded data removed]",
            "text/plain": [
              "<Figure size 432x288 with 1 Axes>"
            ]
          },
          "metadata": {
            "tags": [],
            "needs_background": "light"
          }
        }
      ]
    },
    {
      "cell_type": "code",
      "metadata": {
        "id": "Ozyn__dbTD8o",
        "colab_type": "code",
        "colab": {}
      },
      "source": [
        ""
      ],
      "execution_count": 0,
      "outputs": []
    },
    {
      "cell_type": "markdown",
      "metadata": {
        "id": "QAo_LMBSTD8q",
        "colab_type": "text"
      },
      "source": [
        "## <font color = red> Problema 5 <font>\n",
        "\n",
        "### Modelo poblacional \n",
        "\n",
        "Simula la siguiente ecuación, y supoga que cada unidad de tiempo corresponde a un minuto.\n",
        "\n",
        "$$\\frac{ds}{dt} = 0.05s(\\frac{s}{20}-1)(1-\\frac{s}{100}) $$\n",
        "\n",
        "\n",
        "1. (20 puntos) Simula el sistema en un tiempo de $0$ a $200$ unidades de tiempo, con la condición inicial $s(0) = 21$  \n",
        "2. (15 puntos) \n",
        "    - (10 puntos) Grafique la solución.\n",
        "    - (5 puntos) ¿En que tiempo aproximadamente la poblacion alcanza su maxima capacidad?\n",
        "3. (15 puntos)\n",
        "    - (5 puntos) ¿Cual es la capacidad de soporte de este modelo poblacional?\n",
        "    - (10  puntos) ¿Que pasa con una condición inicial menor (s(0)=21) ? ¿Y con una condición mayor a la capacidad de soporte? "
      ]
    },
    {
      "cell_type": "code",
      "metadata": {
        "id": "oZT1j08QTD8q",
        "colab_type": "code",
        "outputId": "3390a282-fc61-42b2-d798-1849fdc94d37",
        "colab": {}
      },
      "source": [
        ""
      ],
      "execution_count": 0,
      "outputs": [
        {
          "output_type": "execute_result",
          "data": {
            "text/plain": [
              "[<matplotlib.lines.Line2D at 0x1d9016fd188>]"
            ]
          },
          "metadata": {
            "tags": []
          },
          "execution_count": 15
        },
        {
          "output_type": "display_data",
          "data": {
            "image/png": "[encoded data removed]",
            "text/plain": [
              "<Figure size 432x288 with 1 Axes>"
            ]
          },
          "metadata": {
            "tags": [],
            "needs_background": "light"
          }
        }
      ]
    },
    {
      "cell_type": "code",
      "metadata": {
        "id": "JOMpgt-NTD8t",
        "colab_type": "code",
        "outputId": "c014d382-ce21-453c-f1ba-d8cf51c1836a",
        "colab": {
          "base_uri": "https://localhost:8080/",
          "height": 312
        }
      },
      "source": [
        "import matplotlib.pyplot as plt\n",
        "import numpy as np\n",
        "from scipy.integrate import odeint\n",
        "%matplotlib inline\n",
        "def poblacion(s0,title):\n",
        "    def crecimiento(s,t):\n",
        "        return 0.05*s*((s/20)-1)*(1-(s/100))\n",
        "    t = np.linspace(0,200)\n",
        "    s_t = odeint(crecimiento,s0,t)\n",
        "    \n",
        "    plt.plot(t,s_t)\n",
        "    plt.xlabel('time (min)')\n",
        "    plt.ylabel('poblacion')\n",
        "    plt.title(title)\n",
        "    plt.grid()\n",
        "    plt.show()\n",
        "poblacion(21,'Grafica con s0=21')\n",
        "print(\" máxima capacidad aproximadamente a los 105 minutos.\")"
      ],
      "execution_count": 0,
      "outputs": [
        {
          "output_type": "display_data",
          "data": {
            "image/png": "[encoded data removed]",
            "text/plain": [
              "<Figure size 432x288 with 1 Axes>"
            ]
          },
          "metadata": {
            "tags": [],
            "needs_background": "light"
          }
        },
        {
          "output_type": "stream",
          "text": [
            " máxima capacidad aproximadamente a los 105 minutos.\n"
          ],
          "name": "stdout"
        }
      ]
    },
    {
      "cell_type": "code",
      "metadata": {
        "id": "K4c-oCluTD8v",
        "colab_type": "code",
        "outputId": "ee165b79-dcf8-497a-ddf2-3c5080ff6799",
        "colab": {
          "base_uri": "https://localhost:8080/",
          "height": 1000
        }
      },
      "source": [
        "poblacion(20, 'Prueba con s0 = 20')\n",
        "poblacion(100, 'Prueba con s0 = 100')\n",
        "print(\"Observando la función de creciemiento y haciendo las simulaciones en 20 y 100 nos damos cuenta que el rango de la población que se debería de manejar es entre 20 y 100, dando una capacidad de 80\")\n",
        "poblacion(20.5, 'Prueba 1 con valor s0<21')\n",
        "poblacion(15, 'Prueba 2 con valor s0<21')\n",
        "print('Al dar un valor inicial s0<21 se incrementa el tiempo para llegar a la capacidad máxima, pero si reducimos s0<20 \\nnuestro sistema falla')\n",
        "poblacion(22, 'Prueba 1 con valor s0>21')\n",
        "poblacion(30, 'Prueba 2 con valor s0>21')\n",
        "print('Si incrementamos s0>21 se disminuye el tiempo para llegar a la capacidad máxima, si sobrepasamos s0>100 \\nnuestro sistema falla')"
      ],
      "execution_count": 0,
      "outputs": [
        {
          "output_type": "display_data",
          "data": {
            "image/png": "[encoded data removed]",
            "text/plain": [
              "<Figure size 432x288 with 1 Axes>"
            ]
          },
          "metadata": {
            "tags": [],
            "needs_background": "light"
          }
        },
        {
          "output_type": "display_data",
          "data": {
            "image/png": "[encoded data removed]",
            "text/plain": [
              "<Figure size 432x288 with 1 Axes>"
            ]
          },
          "metadata": {
            "tags": [],
            "needs_background": "light"
          }
        },
        {
          "output_type": "stream",
          "text": [
            "Observando la función de creciemiento y haciendo las simulaciones en 20 y 100 nos damos cuenta que el rango de la población que se debería de manejar es entre 20 y 100, dando una capacidad de 80\n"
          ],
          "name": "stdout"
        },
        {
          "output_type": "display_data",
          "data": {
            "image/png": "[encoded data removed]",
            "text/plain": [
              "<Figure size 432x288 with 1 Axes>"
            ]
          },
          "metadata": {
            "tags": [],
            "needs_background": "light"
          }
        },
        {
          "output_type": "display_data",
          "data": {
            "image/png": "[encoded data removed]",
            "text/plain": [
              "<Figure size 432x288 with 1 Axes>"
            ]
          },
          "metadata": {
            "tags": [],
            "needs_background": "light"
          }
        },
        {
          "output_type": "stream",
          "text": [
            "Al dar un valor inicial s0<21 se incrementa el tiempo para llegar a la capacidad máxima, pero si reducimos s0<20 \n",
            "nuestro sistema falla\n"
          ],
          "name": "stdout"
        },
        {
          "output_type": "display_data",
          "data": {
            "image/png": "[encoded data removed]",
            "text/plain": [
              "<Figure size 432x288 with 1 Axes>"
            ]
          },
          "metadata": {
            "tags": [],
            "needs_background": "light"
          }
        },
        {
          "output_type": "display_data",
          "data": {
            "image/png": "[encoded data removed]",
            "text/plain": [
              "<Figure size 432x288 with 1 Axes>"
            ]
          },
          "metadata": {
            "tags": [],
            "needs_background": "light"
          }
        },
        {
          "output_type": "stream",
          "text": [
            "Si incrementamos s0>21 se disminuye el tiempo para llegar a la capacidad máxima, si sobrepasamos s0>100 \n",
            "nuestro sistema falla\n"
          ],
          "name": "stdout"
        }
      ]
    },
    {
      "cell_type": "code",
      "metadata": {
        "id": "vAoG8kkk-mIO",
        "colab_type": "code",
        "colab": {}
      },
      "source": [
        ""
      ],
      "execution_count": 0,
      "outputs": []
    },
    {
      "cell_type": "markdown",
      "metadata": {
        "id": "idhBPHBHTD8x",
        "colab_type": "text"
      },
      "source": [
        "## <font color = red> Problema 6 (estabilizar el sistema)<font>\n",
        "\n",
        "Diseña una función $u$ diferente de 0, para que el siguiente sistema no crezca, y se aproxime a 0 cuando t -> $\\infty$.\n",
        "\n",
        "\n",
        "$$\\frac{ds}{dt} = 0.06u $$\n",
        "\n",
        "\n",
        "1. (20 puntos) Simula el sistema en un tiempo de $0$ a $800$ unidades de tiempo, con la condición inicial $s(0) = 10$  \n",
        "2. (15 puntos) \n",
        "    - (15 puntos) Grafique la solución.\n",
        "3. (15 puntos)\n",
        "    - (15 puntos) Escriba la ecuación de $u$ utilizada"
      ]
    },
    {
      "cell_type": "code",
      "metadata": {
        "id": "X4zAF9WMTD8y",
        "colab_type": "code",
        "outputId": "69052927-7409-4a91-8c0b-b9e773a9b49e",
        "colab": {
          "base_uri": "https://localhost:8080/",
          "height": 281
        }
      },
      "source": [
        "import matplotlib.pyplot as plt\n",
        "import numpy as np\n",
        "from scipy.integrate import odeint\n",
        "%matplotlib inline\n",
        "\n",
        "def ds(s0):\n",
        "    def cambio(s,t):\n",
        "        u=-0.027*s*np.sqrt(s*t*0.5)\n",
        "        return 0.06*u\n",
        "    t = np.linspace(0,800)\n",
        "    s_t = odeint(cambio,s0,t)\n",
        "    \n",
        "    plt.plot(t,s_t)\n",
        "    plt.title('Simulación del sistema')\n",
        "    plt.show()\n",
        "    \n",
        "ds(10)"
      ],
      "execution_count": 0,
      "outputs": [
        {
          "output_type": "display_data",
          "data": {
            "image/png": "[encoded data removed]",
            "text/plain": [
              "<Figure size 432x288 with 1 Axes>"
            ]
          },
          "metadata": {
            "tags": [],
            "needs_background": "light"
          }
        }
      ]
    },
    {
      "cell_type": "code",
      "metadata": {
        "id": "Ismw7MDL_OWw",
        "colab_type": "code",
        "colab": {}
      },
      "source": [
        ""
      ],
      "execution_count": 0,
      "outputs": []
    },
    {
      "cell_type": "markdown",
      "metadata": {
        "id": "cjAqQqBrTD84",
        "colab_type": "text"
      },
      "source": [
        "## <font color = red> Problema 7 <font>\n",
        "\n",
        "Diseña una función $u$ diferente de 0, para que el siguiente sistema no crezca, y se aproxime a 0 cuando t -> $\\infty$.\n",
        "\n",
        "\n",
        "$$\\frac{dx}{dt} = 2x^2 + 0.06u $$\n",
        "\n",
        "\n",
        "1. (20 puntos) Simula el sistema con la condición inicial $x(0) = 10$  \n",
        "2. (15 puntos) \n",
        "    - (15 puntos) Grafique la solución.\n",
        "3. (15 puntos)\n",
        "    - (15 puntos) Escriba la ecuación de $u$ utilizada"
      ]
    },
    {
      "cell_type": "code",
      "metadata": {
        "id": "WmXA-3VMTD85",
        "colab_type": "code",
        "outputId": "50e8fd56-bcde-4ffe-ba3d-d948303bbea7",
        "colab": {
          "base_uri": "https://localhost:8080/",
          "height": 281
        }
      },
      "source": [
        "import matplotlib.pyplot as plt\n",
        "import numpy as np\n",
        "from scipy.integrate import odeint\n",
        "%matplotlib inline\n",
        "\n",
        "def dx(x0):\n",
        "    def cambio(x,t):\n",
        "        u=-40*x*np.sqrt(x*t*0.5)\n",
        "        return 2*x*np.exp(2)+0.06*u\n",
        "    t = np.linspace(0,800)\n",
        "    x_t = odeint(cambio,x0,t)\n",
        "    \n",
        "    plt.plot(t,x_t)\n",
        "    plt.title('Simulación del sistema')\n",
        "    plt.show()\n",
        "    \n",
        "dx(10)"
      ],
      "execution_count": 0,
      "outputs": [
        {
          "output_type": "display_data",
          "data": {
            "image/png": "[encoded data removed]",
            "text/plain": [
              "<Figure size 432x288 with 1 Axes>"
            ]
          },
          "metadata": {
            "tags": [],
            "needs_background": "light"
          }
        }
      ]
    },
    {
      "cell_type": "code",
      "metadata": {
        "id": "SYz4sBvgTD89",
        "colab_type": "code",
        "colab": {}
      },
      "source": [
        ""
      ],
      "execution_count": 0,
      "outputs": []
    },
    {
      "cell_type": "code",
      "metadata": {
        "id": "L-RVRyc-_ilX",
        "colab_type": "code",
        "colab": {}
      },
      "source": [
        ""
      ],
      "execution_count": 0,
      "outputs": []
    },
    {
      "cell_type": "markdown",
      "metadata": {
        "id": "xga3Te9xTD8_",
        "colab_type": "text"
      },
      "source": [
        "## <font color = red> Problema 8 (seguimiento de trayectorias) <font>\n",
        "\n",
        "Diseña una función $u$ diferente de 0, para que el siguiente sistema siga una trayectoria. \n",
        "\n",
        "\n",
        "$$\\frac{dx}{dt} = 2x^2 + 0.06u $$\n",
        "\n",
        "\n",
        "1. (20 puntos) Simula el sistema con la condición inicial $x(0) = 10$  \n",
        "2. (15 puntos) \n",
        "    - (15 puntos) Grafique la solución siguiendo la funcion de referencia $ x_{ref} = sin(t) $\n",
        "3. (15 puntos)\n",
        "    - (15 puntos) Escriba la ecuación de $u$ utilizada"
      ]
    },
    {
      "cell_type": "code",
      "metadata": {
        "id": "o7ssYFh7TD8_",
        "colab_type": "code",
        "outputId": "b50cf8b9-fc7e-4526-d61c-68f02837828d",
        "colab": {}
      },
      "source": [
        ""
      ],
      "execution_count": 0,
      "outputs": [
        {
          "output_type": "execute_result",
          "data": {
            "text/plain": [
              "[<matplotlib.lines.Line2D at 0x1d9382f3a88>]"
            ]
          },
          "metadata": {
            "tags": []
          },
          "execution_count": 40
        },
        {
          "output_type": "display_data",
          "data": {
            "image/png": "[encoded data removed]",
            "text/plain": [
              "<Figure size 432x288 with 1 Axes>"
            ]
          },
          "metadata": {
            "tags": [],
            "needs_background": "light"
          }
        }
      ]
    },
    {
      "cell_type": "code",
      "metadata": {
        "id": "k2IPxBAcTD9B",
        "colab_type": "code",
        "colab": {}
      },
      "source": [
        ""
      ],
      "execution_count": 0,
      "outputs": []
    },
    {
      "cell_type": "markdown",
      "metadata": {
        "id": "U0S2rVybTD9D",
        "colab_type": "text"
      },
      "source": [
        "## <font color = red> Problema 9  <font>\n",
        "\n",
        "\n",
        "Una empresa de transportes gestiona una flota de 60 carros de tres modelos diferentes. \n",
        "\n",
        "- Los tipo X generan una media diaria de $ \\$15,000$  pesos. y recorren diariamente una media de $400$ kilómetros. \n",
        "\n",
        "- Los tipo Black generan diariamente una media de $\\$10,000$ pesos y recorren $300$ kilómetros. \n",
        "\n",
        "- Los tipo SUV generan diariamente $\\$5,000$ pesos y recorren $100$ km. de media.\n",
        "\n",
        "Diariamente los carros de la empresa transportan un total de $ \\$475$ mil pesos y recorren $12500$ km. entre todos. \n",
        "\n",
        "¿Cuántos carros gestiona la empresa de cada modelo?"
      ]
    },
    {
      "cell_type": "code",
      "metadata": {
        "id": "2CvoUT03TD9E",
        "colab_type": "code",
        "outputId": "f29f8824-854c-4b56-8479-9e63dea51705",
        "colab": {
          "base_uri": "https://localhost:8080/",
          "height": 68
        }
      },
      "source": [
        "import numpy as np\n",
        "\n",
        "a=np.array([[1,1,1],[15000,10000,5000],[400,300,100]])\n",
        "b=np.array([60, 475000,12500])\n",
        "x=np.linalg.solve(a,b)\n",
        "\n",
        "#print(x)\n",
        "\n",
        "print(\"X:\", round(x[0]))\n",
        "print(\"Black:\", round(x[1]))\n",
        "print(\"SUV:\", round(x[2]))"
      ],
      "execution_count": 0,
      "outputs": [
        {
          "output_type": "stream",
          "text": [
            "X: 5.0\n",
            "Black: 25.0\n",
            "SUV: 30.0\n"
          ],
          "name": "stdout"
        }
      ]
    },
    {
      "cell_type": "code",
      "metadata": {
        "id": "TGvmlA_PTD9G",
        "colab_type": "code",
        "colab": {}
      },
      "source": [
        ""
      ],
      "execution_count": 0,
      "outputs": []
    },
    {
      "cell_type": "code",
      "metadata": {
        "id": "H82rSLH9_qbv",
        "colab_type": "code",
        "colab": {}
      },
      "source": [
        ""
      ],
      "execution_count": 0,
      "outputs": []
    },
    {
      "cell_type": "markdown",
      "metadata": {
        "id": "YwK3zVopTD9I",
        "colab_type": "text"
      },
      "source": [
        "## <font color = red> Problema 10  <font>\n",
        "\n",
        "Ace Novelty recibió un pedido del Magic World Amusement Park de **900 pandas gigantes, 1200 perros San Bernardo y 2000 pájaros grandes.** La dirección Ace decidió que **500 pandas, 800 perros y 1300 pájaros** pueden ser fabricados **en su planta de Los Ángeles**, y el **resto** del pedido podría realizarse **en la planta de Seattle.**\n",
        "\n",
        "Cada **panda** requiere **1.5** metros cuadradas de felpa, **30** metros cúbicos de relleno y **5** piezas de adorno; cada **perro** requiere **2** metros cuadradas de felpa, **35** metros cúbicos de relleno y **8** piezas de adorno, y cada **pájaro** requiere **2.5** metros cuadrados de felpa, **25** metros cúbicos de relleno y **15** piezas de adorno. La felpa cuesta **\\$4.50** por metro cuadrado, el relleno cuesta **\\$0.20** por metros cúbico y las piezas de adorno cuestan **\\$0.25** por unidad.\n",
        "\n",
        "a. Calcule la cantidad de cada tipo de material que se debe comprar para cada planta.\n",
        "\n",
        "b. ¿Cuál es el costo total de materiales empleados en cada planta y el costo total de los materiales usados por Ace Novelty para cubrir el pedido?"
      ]
    },
    {
      "cell_type": "markdown",
      "metadata": {
        "id": "rHLxjTnSTD9J",
        "colab_type": "text"
      },
      "source": [
        "| |Felpa|Relleno|Adorno|\n",
        "|---|---|---|---|\n",
        "|Pandas|1.50|  30.00|  5.00|\n",
        "|Perros|2.00|  35.00|  8.00|\n",
        "|Pájaros|2.50|  25.00|  15.00|\n",
        "\n",
        "\n",
        "| |Pandas|Perros|Pájaros|\n",
        "|---|---|---|---|\n",
        "|L.A|500|800|1300|\n",
        "|Seattle|400|400|700|\n",
        "\n",
        "| | |\n",
        "|---|---|\n",
        "|Felpa|4.50|\n",
        "|Relleno|0.20|\n",
        "|Adorno|0.25|"
      ]
    },
    {
      "cell_type": "markdown",
      "metadata": {
        "id": "oM0_GbqvTD9J",
        "colab_type": "text"
      },
      "source": [
        "A=$\\left[\n",
        " \\begin{array}{ccc}\n",
        " 1.50 & 30.00 & 5.00  \\\\\n",
        " 2.00 & 35.00 & 8.00  \\\\\n",
        " 2.50 & 25.00 & 15.00 \\\\\n",
        "\\end{array} \n",
        "\\right]$,\n",
        "P=\n",
        "$\\left[\n",
        " \\begin{array}{ccc}\n",
        " 500.00 & 800.00 & 1300.00 \\\\\n",
        " 400.00 & 400.00 & 700.00  \\\\\n",
        "\\end{array} \n",
        "\\right]$,\n",
        "C=\n",
        "$\\left[\n",
        " \\begin{array}{c}\n",
        " 4.5  \\\\\n",
        " 0.2  \\\\\n",
        " 0.25\n",
        "\\end{array} \n",
        "\\right]$"
      ]
    },
    {
      "cell_type": "code",
      "metadata": {
        "id": "EQvsKgqGTD9K",
        "colab_type": "code",
        "colab": {}
      },
      "source": [
        ""
      ],
      "execution_count": 0,
      "outputs": []
    },
    {
      "cell_type": "code",
      "metadata": {
        "id": "3aG1TM9uTD9N",
        "colab_type": "code",
        "colab": {}
      },
      "source": [
        "# a:La cantidad de cada tipo de material para cada planta,\n"
      ],
      "execution_count": 0,
      "outputs": []
    },
    {
      "cell_type": "code",
      "metadata": {
        "id": "EQKAYdcpTD9P",
        "colab_type": "code",
        "colab": {}
      },
      "source": [
        "#b:El costo total de los materiales para cada planta está dada por\n"
      ],
      "execution_count": 0,
      "outputs": []
    },
    {
      "cell_type": "code",
      "metadata": {
        "id": "eALBpwnpTD9R",
        "colab_type": "code",
        "colab": {}
      },
      "source": [
        "#Costo total\n"
      ],
      "execution_count": 0,
      "outputs": []
    },
    {
      "cell_type": "code",
      "metadata": {
        "id": "FOIWJNF5TD9T",
        "colab_type": "code",
        "colab": {}
      },
      "source": [
        ""
      ],
      "execution_count": 0,
      "outputs": []
    },
    {
      "cell_type": "markdown",
      "metadata": {
        "id": "HzSlTZ_oTD9V",
        "colab_type": "text"
      },
      "source": [
        "## <font color = red> Problema 10  <font>\n",
        "\n",
        "Aproxima la función exponencial con n=20\n",
        "\n",
        "$$e^x =\\sum_{n=0}^{20} \\frac{x^n}{n!}$$"
      ]
    },
    {
      "cell_type": "code",
      "metadata": {
        "id": "ftdUf8zjTD9W",
        "colab_type": "code",
        "outputId": "01d27b08-8ae2-4ccb-dab8-ce0ab48fd4b9",
        "colab": {
          "base_uri": "https://localhost:8080/",
          "height": 85
        }
      },
      "source": [
        "import math\n",
        "a=0\n",
        "x=2\n",
        "\n",
        "for i in range(20):\n",
        "    a=a+(x**i)/math.factorial(i)\n",
        "    \n",
        "print(\"Tomando x=2 \\n\")\n",
        "print(\"e^2 =\", math.e**x)\n",
        "print(\"Aproximacion con sumatoria:\", a)"
      ],
      "execution_count": 0,
      "outputs": [
        {
          "output_type": "stream",
          "text": [
            "Tomando x=2 \n",
            "\n",
            "e^2 = 7.3890560989306495\n",
            "Aproximacion con sumatoria: 7.3890560989301735\n"
          ],
          "name": "stdout"
        }
      ]
    },
    {
      "cell_type": "code",
      "metadata": {
        "id": "egfkFZXfTD9Y",
        "colab_type": "code",
        "colab": {}
      },
      "source": [
        ""
      ],
      "execution_count": 0,
      "outputs": []
    },
    {
      "cell_type": "markdown",
      "metadata": {
        "id": "nMCTuL3NTD9a",
        "colab_type": "text"
      },
      "source": [
        "## <font color = red> Problema 11  <font>\n",
        "    \n",
        "### Construir una cisterna rectangular\n",
        "\n",
        "Se va a construir una cisterna rectangular con base y tapa cuadradas para almacenar **$12000pies^3$** de agua. Si el concreto para construir la base y los lados tiene un costo de **$100$ por $pie^2$** y el material para construir la **tapa** cuesta **$200$ por $pie^2$** \n",
        "\n",
        "¿cuáles son las dimensiones de la cisterna que minimizan el costo de su construcción?\n",
        "\n",
        "¿Qué se quiere en el problema?\n",
        "\n",
        "Determinar las dimensiones de la cisterna que minimizan el costo de su construcción.\n",
        "Suponiendo que las dimensiones de la cisterna son: \n",
        "$x$ pies el lado de la base cuadrada y $h$ pies su altura.\n",
        "\n",
        "¿Cuál es el costo de su construcción?\n",
        "\n",
        "![](cisterna.png)\n",
        "\n",
        "Para encontrar las dimensiones ($x$ & $h$) que minimizan el costo de su construcción se necesita la expresión del costo de la cisterna. Usamos la tabla siguiente:\n",
        "\n",
        "![](tablacisterna.png)\n",
        "\n",
        "El costo total de la contrucción de la cisterna es:\n",
        "\n",
        "$$ C = 300x^2 + 400xh \\text{   pesos}$$\n",
        "\n",
        "En el problema aparece la siguiente restricción: **el volumen de la cisterna debe ser igual a $12 000 pies^3$, es decir, que $x^2h = 12000$.**\n",
        "\n",
        "Tenemos pues:\n",
        "\n",
        "Una función $C = 300x^2 + 400xh$ y una ecuación $x^2h = 12 000$.\n",
        "De la ecuación despejamos una de las variables (la que más convenga) para sustituirla en la función. Conviene despejar $h$."
      ]
    },
    {
      "cell_type": "code",
      "metadata": {
        "id": "FAXwrpUnTD9b",
        "colab_type": "code",
        "colab": {}
      },
      "source": [
        ""
      ],
      "execution_count": 0,
      "outputs": []
    },
    {
      "cell_type": "code",
      "metadata": {
        "id": "glRF2F1PTD9e",
        "colab_type": "code",
        "colab": {}
      },
      "source": [
        ""
      ],
      "execution_count": 0,
      "outputs": []
    },
    {
      "cell_type": "code",
      "metadata": {
        "id": "viKEJecHTD9h",
        "colab_type": "code",
        "colab": {}
      },
      "source": [
        ""
      ],
      "execution_count": 0,
      "outputs": []
    },
    {
      "cell_type": "markdown",
      "metadata": {
        "id": "m0A8Z60tTD9j",
        "colab_type": "text"
      },
      "source": [
        "## <font color = red> Problema 12  <font>\n",
        "    \n",
        "\n",
        "Con el comienzo del curso se va a lanzar unas ofertas de material escolar. Unos almacenes quieren ofrecer 600 cuadernos, 500 carpetas y 400 bolígrafos para la oferta, empaquetándolo de dos formas distintas; en el primer bloque pondrá 2 cuadernos, 1 carpeta y 2 bolígrafos; en el segundo, pondrán 3 cuadernos, 1 carpeta y 1 bolígrafo. Los precios de cada paquete serán 6.5 y 7 €, respectivamente.\n",
        "\n",
        "¿Cuántos paquetes le conviene poner de cada tipo para obtener el máximo beneficio?\n"
      ]
    },
    {
      "cell_type": "markdown",
      "metadata": {
        "id": "gP7l-WgkTD9k",
        "colab_type": "text"
      },
      "source": [
        "![image.png](attachment:image.png)"
      ]
    },
    {
      "cell_type": "code",
      "metadata": {
        "id": "PhTYWl0FTD9k",
        "colab_type": "code",
        "colab": {}
      },
      "source": [
        ""
      ],
      "execution_count": 0,
      "outputs": []
    },
    {
      "cell_type": "code",
      "metadata": {
        "id": "nIgEmUU5TD9m",
        "colab_type": "code",
        "colab": {}
      },
      "source": [
        ""
      ],
      "execution_count": 0,
      "outputs": []
    },
    {
      "cell_type": "code",
      "metadata": {
        "id": "BeewGA4-TD9o",
        "colab_type": "code",
        "colab": {}
      },
      "source": [
        "#x: array([150., 100.])"
      ],
      "execution_count": 0,
      "outputs": []
    },
    {
      "cell_type": "code",
      "metadata": {
        "id": "egjC3c9FTD9r",
        "colab_type": "code",
        "colab": {}
      },
      "source": [
        ""
      ],
      "execution_count": 0,
      "outputs": []
    },
    {
      "cell_type": "markdown",
      "metadata": {
        "id": "qNgrd2uRTD9t",
        "colab_type": "text"
      },
      "source": [
        "## <font color = red> Problema 13 <font>\n",
        "    \n",
        "Se dispone de 600 g de un determinado fármaco para elaborar pastillas grandes y pequeñas. Las grandes pesan 40 g y las pequeñas 30 g. Se necesitan al menos tres pastillas grandes, y al menos el doble de pequeñas que de las grandes. Cada pastilla grande proporciona un beneficio de 2 € y la pequeña de 1 €.\n",
        "\n",
        "¿Cuántas pastillas se han de elaborar de cada clase para que el beneficio sea máximo?"
      ]
    },
    {
      "cell_type": "markdown",
      "metadata": {
        "id": "p6P_WwbhTD9t",
        "colab_type": "text"
      },
      "source": [
        "![image.png](attachment:image.png)"
      ]
    },
    {
      "cell_type": "markdown",
      "metadata": {
        "id": "9k3FNscyTD9u",
        "colab_type": "text"
      },
      "source": [
        "![image.png](attachment:image.png)"
      ]
    },
    {
      "cell_type": "code",
      "metadata": {
        "id": "VEsUQoghTD9u",
        "colab_type": "code",
        "colab": {}
      },
      "source": [
        ""
      ],
      "execution_count": 0,
      "outputs": []
    },
    {
      "cell_type": "code",
      "metadata": {
        "id": "Vjcjyl3KTD9v",
        "colab_type": "code",
        "colab": {}
      },
      "source": [
        "#x: array([ 6., 12.])"
      ],
      "execution_count": 0,
      "outputs": []
    },
    {
      "cell_type": "code",
      "metadata": {
        "id": "YdZXfli-TD9x",
        "colab_type": "code",
        "colab": {}
      },
      "source": [
        ""
      ],
      "execution_count": 0,
      "outputs": []
    },
    {
      "cell_type": "markdown",
      "metadata": {
        "id": "ltUJqcgITD9z",
        "colab_type": "text"
      },
      "source": [
        "## <font color = red> Problema 14 <font>\n",
        "\n",
        "El conjunto de datos proviene del repositorio UCI Machine Learning y está relacionado con campañas de marketing directo (llamadas telefónicas) de una institución bancaria portuguesa.\n",
        "\n",
        "El objetivo de la clasificación es predecir si el cliente se suscribirá (1/0) a un depósito a plazo (variable y). El conjunto de datos se puede descargar desde aquí.\n",
        "\n",
        "https://raw.githubusercontent.com/madmashup/targeted-marketing-predictive-engine/master/banking.csv"
      ]
    },
    {
      "cell_type": "markdown",
      "metadata": {
        "id": "MMw7xBm6TD90",
        "colab_type": "text"
      },
      "source": [
        "### Input variables\n",
        "\n",
        "- age (numeric)\n",
        "- job : type of job (categorical: “admin”, “blue-collar”, “entrepreneur”, “housemaid”, “management”, “retired”, “self-employed”, “services”, “student”, “technician”, “unemployed”, “unknown”)\n",
        "- marital : marital status (categorical: “divorced”, “married”, “single”, “unknown”)\n",
        "- education (categorical: “basic.4y”, “basic.6y”, “basic.9y”, “high.school”, “illiterate”, “professional.course”, “university.degree”, “unknown”)\n",
        "- default: has credit in default? (categorical: “no”, “yes”, “unknown”)\n",
        "- housing: has housing loan? (categorical: “no”, “yes”, “unknown”)\n",
        "- loan: has personal loan? (categorical: “no”, “yes”, “unknown”)\n",
        "- contact: contact communication type (categorical: “cellular”, “telephone”)\n",
        "- month: last contact month of year (categorical: “jan”, “feb”, “mar”, …, “nov”, “dec”)\n",
        "- day_of_week: last contact day of the week (categorical: “mon”, “tue”, “wed”, “thu”, “fri”)\n",
        "- duration: last contact duration, in seconds (numeric). Important note: this attribute highly affects the output target (e.g., if duration=0 then y=’no’). The duration is not known before a call is performed, also, after the end of the call, y is obviously known. Thus, this input should only be included for benchmark purposes and should be discarded if the intention is to have a realistic predictive model\n",
        "- campaign: number of contacts performed during this campaign and for this client (numeric, includes last contact)\n",
        "- pdays: number of days that passed by after the client was last contacted from a previous campaign (numeric; 999 means client was not previously contacted)\n",
        "- previous: number of contacts performed before this campaign and for this client (numeric)\n",
        "- poutcome: outcome of the previous marketing campaign (categorical: “failure”, “nonexistent”, “success”)\n",
        "- emp.var.rate: employment variation rate — (numeric)\n",
        "- cons.price.idx: consumer price index — (numeric)\n",
        "- cons.conf.idx: consumer confidence index — (numeric)\n",
        "- euribor3m: euribor 3 month rate — (numeric)\n",
        "- nr.employed: number of employees — (numeric)\n",
        "\n",
        "\n",
        "### Predict variable (desired target):\n",
        "\n",
        "y — has the client subscribed a term deposit? (binary: “1”, means “Yes”, “0” means “No”)"
      ]
    },
    {
      "cell_type": "code",
      "metadata": {
        "id": "ZC5ttbxhTD90",
        "colab_type": "code",
        "colab": {}
      },
      "source": [
        ""
      ],
      "execution_count": 0,
      "outputs": []
    },
    {
      "cell_type": "code",
      "metadata": {
        "id": "lcu8yLXdTD93",
        "colab_type": "code",
        "outputId": "5024a437-2afc-46cc-b40d-880f5d429485",
        "colab": {}
      },
      "source": [
        "import os\n",
        "import pandas as pd\n",
        "\n",
        "banking = pd.read_csv('banking.csv')\n",
        "print(banking.columns)"
      ],
      "execution_count": 0,
      "outputs": [
        {
          "output_type": "stream",
          "text": [
            "Index(['age', 'job', 'marital', 'education', 'default', 'housing', 'loan',\n",
            "       'contact', 'month', 'day_of_week', 'duration', 'campaign', 'pdays',\n",
            "       'previous', 'poutcome', 'emp_var_rate', 'cons_price_idx',\n",
            "       'cons_conf_idx', 'euribor3m', 'nr_employed', 'y'],\n",
            "      dtype='object')\n"
          ],
          "name": "stdout"
        }
      ]
    },
    {
      "cell_type": "code",
      "metadata": {
        "id": "UssXEziATD94",
        "colab_type": "code",
        "outputId": "6409bf52-5015-4021-e0b7-1651a136c091",
        "colab": {}
      },
      "source": [
        "banking.head()"
      ],
      "execution_count": 0,
      "outputs": [
        {
          "output_type": "execute_result",
          "data": {
            "text/html": [
              "<div>\n",
              "<style scoped>\n",
              "    .dataframe tbody tr th:only-of-type {\n",
              "        vertical-align: middle;\n",
              "    }\n",
              "\n",
              "    .dataframe tbody tr th {\n",
              "        vertical-align: top;\n",
              "    }\n",
              "\n",
              "    .dataframe thead th {\n",
              "        text-align: right;\n",
              "    }\n",
              "</style>\n",
              "<table border=\"1\" class=\"dataframe\">\n",
              "  <thead>\n",
              "    <tr style=\"text-align: right;\">\n",
              "      <th></th>\n",
              "      <th>age</th>\n",
              "      <th>job</th>\n",
              "      <th>marital</th>\n",
              "      <th>education</th>\n",
              "      <th>default</th>\n",
              "      <th>housing</th>\n",
              "      <th>loan</th>\n",
              "      <th>contact</th>\n",
              "      <th>month</th>\n",
              "      <th>day_of_week</th>\n",
              "      <th>...</th>\n",
              "      <th>campaign</th>\n",
              "      <th>pdays</th>\n",
              "      <th>previous</th>\n",
              "      <th>poutcome</th>\n",
              "      <th>emp_var_rate</th>\n",
              "      <th>cons_price_idx</th>\n",
              "      <th>cons_conf_idx</th>\n",
              "      <th>euribor3m</th>\n",
              "      <th>nr_employed</th>\n",
              "      <th>y</th>\n",
              "    </tr>\n",
              "  </thead>\n",
              "  <tbody>\n",
              "    <tr>\n",
              "      <td>0</td>\n",
              "      <td>44</td>\n",
              "      <td>blue-collar</td>\n",
              "      <td>married</td>\n",
              "      <td>basic.4y</td>\n",
              "      <td>unknown</td>\n",
              "      <td>yes</td>\n",
              "      <td>no</td>\n",
              "      <td>cellular</td>\n",
              "      <td>aug</td>\n",
              "      <td>thu</td>\n",
              "      <td>...</td>\n",
              "      <td>1</td>\n",
              "      <td>999</td>\n",
              "      <td>0</td>\n",
              "      <td>nonexistent</td>\n",
              "      <td>1.4</td>\n",
              "      <td>93.444</td>\n",
              "      <td>-36.1</td>\n",
              "      <td>4.963</td>\n",
              "      <td>5228.1</td>\n",
              "      <td>0</td>\n",
              "    </tr>\n",
              "    <tr>\n",
              "      <td>1</td>\n",
              "      <td>53</td>\n",
              "      <td>technician</td>\n",
              "      <td>married</td>\n",
              "      <td>unknown</td>\n",
              "      <td>no</td>\n",
              "      <td>no</td>\n",
              "      <td>no</td>\n",
              "      <td>cellular</td>\n",
              "      <td>nov</td>\n",
              "      <td>fri</td>\n",
              "      <td>...</td>\n",
              "      <td>1</td>\n",
              "      <td>999</td>\n",
              "      <td>0</td>\n",
              "      <td>nonexistent</td>\n",
              "      <td>-0.1</td>\n",
              "      <td>93.200</td>\n",
              "      <td>-42.0</td>\n",
              "      <td>4.021</td>\n",
              "      <td>5195.8</td>\n",
              "      <td>0</td>\n",
              "    </tr>\n",
              "    <tr>\n",
              "      <td>2</td>\n",
              "      <td>28</td>\n",
              "      <td>management</td>\n",
              "      <td>single</td>\n",
              "      <td>university.degree</td>\n",
              "      <td>no</td>\n",
              "      <td>yes</td>\n",
              "      <td>no</td>\n",
              "      <td>cellular</td>\n",
              "      <td>jun</td>\n",
              "      <td>thu</td>\n",
              "      <td>...</td>\n",
              "      <td>3</td>\n",
              "      <td>6</td>\n",
              "      <td>2</td>\n",
              "      <td>success</td>\n",
              "      <td>-1.7</td>\n",
              "      <td>94.055</td>\n",
              "      <td>-39.8</td>\n",
              "      <td>0.729</td>\n",
              "      <td>4991.6</td>\n",
              "      <td>1</td>\n",
              "    </tr>\n",
              "    <tr>\n",
              "      <td>3</td>\n",
              "      <td>39</td>\n",
              "      <td>services</td>\n",
              "      <td>married</td>\n",
              "      <td>high.school</td>\n",
              "      <td>no</td>\n",
              "      <td>no</td>\n",
              "      <td>no</td>\n",
              "      <td>cellular</td>\n",
              "      <td>apr</td>\n",
              "      <td>fri</td>\n",
              "      <td>...</td>\n",
              "      <td>2</td>\n",
              "      <td>999</td>\n",
              "      <td>0</td>\n",
              "      <td>nonexistent</td>\n",
              "      <td>-1.8</td>\n",
              "      <td>93.075</td>\n",
              "      <td>-47.1</td>\n",
              "      <td>1.405</td>\n",
              "      <td>5099.1</td>\n",
              "      <td>0</td>\n",
              "    </tr>\n",
              "    <tr>\n",
              "      <td>4</td>\n",
              "      <td>55</td>\n",
              "      <td>retired</td>\n",
              "      <td>married</td>\n",
              "      <td>basic.4y</td>\n",
              "      <td>no</td>\n",
              "      <td>yes</td>\n",
              "      <td>no</td>\n",
              "      <td>cellular</td>\n",
              "      <td>aug</td>\n",
              "      <td>fri</td>\n",
              "      <td>...</td>\n",
              "      <td>1</td>\n",
              "      <td>3</td>\n",
              "      <td>1</td>\n",
              "      <td>success</td>\n",
              "      <td>-2.9</td>\n",
              "      <td>92.201</td>\n",
              "      <td>-31.4</td>\n",
              "      <td>0.869</td>\n",
              "      <td>5076.2</td>\n",
              "      <td>1</td>\n",
              "    </tr>\n",
              "  </tbody>\n",
              "</table>\n",
              "<p>5 rows × 21 columns</p>\n",
              "</div>"
            ],
            "text/plain": [
              "   age          job  marital          education  default housing loan  \\\n",
              "0   44  blue-collar  married           basic.4y  unknown     yes   no   \n",
              "1   53   technician  married            unknown       no      no   no   \n",
              "2   28   management   single  university.degree       no     yes   no   \n",
              "3   39     services  married        high.school       no      no   no   \n",
              "4   55      retired  married           basic.4y       no     yes   no   \n",
              "\n",
              "    contact month day_of_week  ...  campaign  pdays  previous     poutcome  \\\n",
              "0  cellular   aug         thu  ...         1    999         0  nonexistent   \n",
              "1  cellular   nov         fri  ...         1    999         0  nonexistent   \n",
              "2  cellular   jun         thu  ...         3      6         2      success   \n",
              "3  cellular   apr         fri  ...         2    999         0  nonexistent   \n",
              "4  cellular   aug         fri  ...         1      3         1      success   \n",
              "\n",
              "  emp_var_rate  cons_price_idx  cons_conf_idx  euribor3m  nr_employed  y  \n",
              "0          1.4          93.444          -36.1      4.963       5228.1  0  \n",
              "1         -0.1          93.200          -42.0      4.021       5195.8  0  \n",
              "2         -1.7          94.055          -39.8      0.729       4991.6  1  \n",
              "3         -1.8          93.075          -47.1      1.405       5099.1  0  \n",
              "4         -2.9          92.201          -31.4      0.869       5076.2  1  \n",
              "\n",
              "[5 rows x 21 columns]"
            ]
          },
          "metadata": {
            "tags": []
          },
          "execution_count": 77
        }
      ]
    },
    {
      "cell_type": "code",
      "metadata": {
        "id": "VHDA_FEVTD97",
        "colab_type": "code",
        "colab": {}
      },
      "source": [
        "#score = 0.9106293095076236"
      ],
      "execution_count": 0,
      "outputs": []
    },
    {
      "cell_type": "code",
      "metadata": {
        "id": "wNWurGK9TD99",
        "colab_type": "code",
        "colab": {}
      },
      "source": [
        ""
      ],
      "execution_count": 0,
      "outputs": []
    },
    {
      "cell_type": "code",
      "metadata": {
        "id": "xRxAPZh3TD-B",
        "colab_type": "code",
        "colab": {}
      },
      "source": [
        ""
      ],
      "execution_count": 0,
      "outputs": []
    },
    {
      "cell_type": "code",
      "metadata": {
        "id": "gtPq9mtUTD-C",
        "colab_type": "code",
        "colab": {}
      },
      "source": [
        ""
      ],
      "execution_count": 0,
      "outputs": []
    }
  ]
}