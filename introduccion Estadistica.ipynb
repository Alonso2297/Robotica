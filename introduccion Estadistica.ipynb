{
 "cells": [
  {
   "cell_type": "markdown",
   "metadata": {},
   "source": [
    "# Introduccion Estadistica\n"
   ]
  },
  {
   "cell_type": "markdown",
   "metadata": {},
   "source": [
    "# Regre lineal"
   ]
  },
  {
   "cell_type": "code",
   "execution_count": 2,
   "metadata": {},
   "outputs": [],
   "source": [
    "from sklearn import linear_model"
   ]
  },
  {
   "cell_type": "code",
   "execution_count": 4,
   "metadata": {},
   "outputs": [],
   "source": [
    "from numpy import array #import numpy as np"
   ]
  },
  {
   "cell_type": "code",
   "execution_count": 6,
   "metadata": {},
   "outputs": [
    {
     "ename": "AttributeError",
     "evalue": "'LinearRegression' object has no attribute 'predit'",
     "output_type": "error",
     "traceback": [
      "\u001b[0;31m---------------------------------------------------------------------------\u001b[0m",
      "\u001b[0;31mAttributeError\u001b[0m                            Traceback (most recent call last)",
      "\u001b[0;32m<ipython-input-6-0b740f810221>\u001b[0m in \u001b[0;36m<module>\u001b[0;34m\u001b[0m\n\u001b[1;32m     14\u001b[0m \u001b[0mlr\u001b[0m\u001b[0;34m.\u001b[0m\u001b[0mfit\u001b[0m\u001b[0;34m(\u001b[0m\u001b[0mx\u001b[0m\u001b[0;34m,\u001b[0m \u001b[0my\u001b[0m\u001b[0;34m)\u001b[0m\u001b[0;34m\u001b[0m\u001b[0;34m\u001b[0m\u001b[0m\n\u001b[1;32m     15\u001b[0m \u001b[0;31m#predict\u001b[0m\u001b[0;34m\u001b[0m\u001b[0;34m\u001b[0m\u001b[0;34m\u001b[0m\u001b[0m\n\u001b[0;32m---> 16\u001b[0;31m \u001b[0myhat\u001b[0m \u001b[0;34m=\u001b[0m \u001b[0mlr\u001b[0m\u001b[0;34m.\u001b[0m\u001b[0mpredit\u001b[0m\u001b[0;34m(\u001b[0m\u001b[0mx\u001b[0m\u001b[0;34m)\u001b[0m\u001b[0;34m\u001b[0m\u001b[0;34m\u001b[0m\u001b[0m\n\u001b[0m\u001b[1;32m     17\u001b[0m \u001b[0;34m\u001b[0m\u001b[0m\n\u001b[1;32m     18\u001b[0m \u001b[0;31m#plot data and predictions\u001b[0m\u001b[0;34m\u001b[0m\u001b[0;34m\u001b[0m\u001b[0;34m\u001b[0m\u001b[0m\n",
      "\u001b[0;31mAttributeError\u001b[0m: 'LinearRegression' object has no attribute 'predit'"
     ]
    }
   ],
   "source": [
    "# define Dataset\n",
    "\n",
    "data = array ([\n",
    "    [0.05, 0.12],\n",
    "    [0.18, 0.22],\n",
    "    [0.31, 0.35],\n",
    "    [0.42, 0.38],\n",
    "    [0.5, 0.49]])\n",
    "#split into inputs and outputs\n",
    "x, y = data[:,0], data[:,1]\n",
    "x = x.reshape((len(x),1))\n",
    "\n",
    "lr = linear_model.LinearRegression()\n",
    "lr.fit(x, y)\n",
    "#predict\n",
    "yhat = lr.predit(x)\n",
    "\n",
    "#plot data and predictions\n",
    "pyplot.scatter(x, y)\n",
    "pyplot.plot(x, yhat, color= 'red')\n",
    "\n",
    "pyplot.show()"
   ]
  },
  {
   "cell_type": "code",
   "execution_count": 45,
   "metadata": {},
   "outputs": [],
   "source": [
    "import pandas as pd"
   ]
  },
  {
   "cell_type": "code",
   "execution_count": 19,
   "metadata": {},
   "outputs": [
    {
     "ename": "FileNotFoundError",
     "evalue": "[Errno 2] No such file or directory: 'Formulario sin titulo (respuestas).xlsx'",
     "output_type": "error",
     "traceback": [
      "\u001b[0;31m---------------------------------------------------------------------------\u001b[0m",
      "\u001b[0;31mFileNotFoundError\u001b[0m                         Traceback (most recent call last)",
      "\u001b[0;32m<ipython-input-19-784b4930bdce>\u001b[0m in \u001b[0;36m<module>\u001b[0;34m\u001b[0m\n\u001b[0;32m----> 1\u001b[0;31m \u001b[0mdf\u001b[0m \u001b[0;34m=\u001b[0m \u001b[0mpd\u001b[0m\u001b[0;34m.\u001b[0m\u001b[0mread_excel\u001b[0m\u001b[0;34m(\u001b[0m\u001b[0;34m\"Formulario sin titulo (respuestas).xlsx\"\u001b[0m\u001b[0;34m)\u001b[0m\u001b[0;34m\u001b[0m\u001b[0;34m\u001b[0m\u001b[0m\n\u001b[0m\u001b[1;32m      2\u001b[0m \u001b[0mdf\u001b[0m\u001b[0;34m\u001b[0m\u001b[0;34m\u001b[0m\u001b[0m\n",
      "\u001b[0;32m/opt/anaconda3/lib/python3.7/site-packages/pandas/util/_decorators.py\u001b[0m in \u001b[0;36mwrapper\u001b[0;34m(*args, **kwargs)\u001b[0m\n\u001b[1;32m    206\u001b[0m                 \u001b[0;32melse\u001b[0m\u001b[0;34m:\u001b[0m\u001b[0;34m\u001b[0m\u001b[0;34m\u001b[0m\u001b[0m\n\u001b[1;32m    207\u001b[0m                     \u001b[0mkwargs\u001b[0m\u001b[0;34m[\u001b[0m\u001b[0mnew_arg_name\u001b[0m\u001b[0;34m]\u001b[0m \u001b[0;34m=\u001b[0m \u001b[0mnew_arg_value\u001b[0m\u001b[0;34m\u001b[0m\u001b[0;34m\u001b[0m\u001b[0m\n\u001b[0;32m--> 208\u001b[0;31m             \u001b[0;32mreturn\u001b[0m \u001b[0mfunc\u001b[0m\u001b[0;34m(\u001b[0m\u001b[0;34m*\u001b[0m\u001b[0margs\u001b[0m\u001b[0;34m,\u001b[0m \u001b[0;34m**\u001b[0m\u001b[0mkwargs\u001b[0m\u001b[0;34m)\u001b[0m\u001b[0;34m\u001b[0m\u001b[0;34m\u001b[0m\u001b[0m\n\u001b[0m\u001b[1;32m    209\u001b[0m \u001b[0;34m\u001b[0m\u001b[0m\n\u001b[1;32m    210\u001b[0m         \u001b[0;32mreturn\u001b[0m \u001b[0mwrapper\u001b[0m\u001b[0;34m\u001b[0m\u001b[0;34m\u001b[0m\u001b[0m\n",
      "\u001b[0;32m/opt/anaconda3/lib/python3.7/site-packages/pandas/io/excel/_base.py\u001b[0m in \u001b[0;36mread_excel\u001b[0;34m(io, sheet_name, header, names, index_col, usecols, squeeze, dtype, engine, converters, true_values, false_values, skiprows, nrows, na_values, keep_default_na, verbose, parse_dates, date_parser, thousands, comment, skip_footer, skipfooter, convert_float, mangle_dupe_cols, **kwds)\u001b[0m\n\u001b[1;32m    308\u001b[0m \u001b[0;34m\u001b[0m\u001b[0m\n\u001b[1;32m    309\u001b[0m     \u001b[0;32mif\u001b[0m \u001b[0;32mnot\u001b[0m \u001b[0misinstance\u001b[0m\u001b[0;34m(\u001b[0m\u001b[0mio\u001b[0m\u001b[0;34m,\u001b[0m \u001b[0mExcelFile\u001b[0m\u001b[0;34m)\u001b[0m\u001b[0;34m:\u001b[0m\u001b[0;34m\u001b[0m\u001b[0;34m\u001b[0m\u001b[0m\n\u001b[0;32m--> 310\u001b[0;31m         \u001b[0mio\u001b[0m \u001b[0;34m=\u001b[0m \u001b[0mExcelFile\u001b[0m\u001b[0;34m(\u001b[0m\u001b[0mio\u001b[0m\u001b[0;34m,\u001b[0m \u001b[0mengine\u001b[0m\u001b[0;34m=\u001b[0m\u001b[0mengine\u001b[0m\u001b[0;34m)\u001b[0m\u001b[0;34m\u001b[0m\u001b[0;34m\u001b[0m\u001b[0m\n\u001b[0m\u001b[1;32m    311\u001b[0m     \u001b[0;32melif\u001b[0m \u001b[0mengine\u001b[0m \u001b[0;32mand\u001b[0m \u001b[0mengine\u001b[0m \u001b[0;34m!=\u001b[0m \u001b[0mio\u001b[0m\u001b[0;34m.\u001b[0m\u001b[0mengine\u001b[0m\u001b[0;34m:\u001b[0m\u001b[0;34m\u001b[0m\u001b[0;34m\u001b[0m\u001b[0m\n\u001b[1;32m    312\u001b[0m         raise ValueError(\n",
      "\u001b[0;32m/opt/anaconda3/lib/python3.7/site-packages/pandas/io/excel/_base.py\u001b[0m in \u001b[0;36m__init__\u001b[0;34m(self, io, engine)\u001b[0m\n\u001b[1;32m    817\u001b[0m         \u001b[0mself\u001b[0m\u001b[0;34m.\u001b[0m\u001b[0m_io\u001b[0m \u001b[0;34m=\u001b[0m \u001b[0m_stringify_path\u001b[0m\u001b[0;34m(\u001b[0m\u001b[0mio\u001b[0m\u001b[0;34m)\u001b[0m\u001b[0;34m\u001b[0m\u001b[0;34m\u001b[0m\u001b[0m\n\u001b[1;32m    818\u001b[0m \u001b[0;34m\u001b[0m\u001b[0m\n\u001b[0;32m--> 819\u001b[0;31m         \u001b[0mself\u001b[0m\u001b[0;34m.\u001b[0m\u001b[0m_reader\u001b[0m \u001b[0;34m=\u001b[0m \u001b[0mself\u001b[0m\u001b[0;34m.\u001b[0m\u001b[0m_engines\u001b[0m\u001b[0;34m[\u001b[0m\u001b[0mengine\u001b[0m\u001b[0;34m]\u001b[0m\u001b[0;34m(\u001b[0m\u001b[0mself\u001b[0m\u001b[0;34m.\u001b[0m\u001b[0m_io\u001b[0m\u001b[0;34m)\u001b[0m\u001b[0;34m\u001b[0m\u001b[0;34m\u001b[0m\u001b[0m\n\u001b[0m\u001b[1;32m    820\u001b[0m \u001b[0;34m\u001b[0m\u001b[0m\n\u001b[1;32m    821\u001b[0m     \u001b[0;32mdef\u001b[0m \u001b[0m__fspath__\u001b[0m\u001b[0;34m(\u001b[0m\u001b[0mself\u001b[0m\u001b[0;34m)\u001b[0m\u001b[0;34m:\u001b[0m\u001b[0;34m\u001b[0m\u001b[0;34m\u001b[0m\u001b[0m\n",
      "\u001b[0;32m/opt/anaconda3/lib/python3.7/site-packages/pandas/io/excel/_xlrd.py\u001b[0m in \u001b[0;36m__init__\u001b[0;34m(self, filepath_or_buffer)\u001b[0m\n\u001b[1;32m     19\u001b[0m         \u001b[0merr_msg\u001b[0m \u001b[0;34m=\u001b[0m \u001b[0;34m\"Install xlrd >= 1.0.0 for Excel support\"\u001b[0m\u001b[0;34m\u001b[0m\u001b[0;34m\u001b[0m\u001b[0m\n\u001b[1;32m     20\u001b[0m         \u001b[0mimport_optional_dependency\u001b[0m\u001b[0;34m(\u001b[0m\u001b[0;34m\"xlrd\"\u001b[0m\u001b[0;34m,\u001b[0m \u001b[0mextra\u001b[0m\u001b[0;34m=\u001b[0m\u001b[0merr_msg\u001b[0m\u001b[0;34m)\u001b[0m\u001b[0;34m\u001b[0m\u001b[0;34m\u001b[0m\u001b[0m\n\u001b[0;32m---> 21\u001b[0;31m         \u001b[0msuper\u001b[0m\u001b[0;34m(\u001b[0m\u001b[0;34m)\u001b[0m\u001b[0;34m.\u001b[0m\u001b[0m__init__\u001b[0m\u001b[0;34m(\u001b[0m\u001b[0mfilepath_or_buffer\u001b[0m\u001b[0;34m)\u001b[0m\u001b[0;34m\u001b[0m\u001b[0;34m\u001b[0m\u001b[0m\n\u001b[0m\u001b[1;32m     22\u001b[0m \u001b[0;34m\u001b[0m\u001b[0m\n\u001b[1;32m     23\u001b[0m     \u001b[0;34m@\u001b[0m\u001b[0mproperty\u001b[0m\u001b[0;34m\u001b[0m\u001b[0;34m\u001b[0m\u001b[0m\n",
      "\u001b[0;32m/opt/anaconda3/lib/python3.7/site-packages/pandas/io/excel/_base.py\u001b[0m in \u001b[0;36m__init__\u001b[0;34m(self, filepath_or_buffer)\u001b[0m\n\u001b[1;32m    357\u001b[0m             \u001b[0mself\u001b[0m\u001b[0;34m.\u001b[0m\u001b[0mbook\u001b[0m \u001b[0;34m=\u001b[0m \u001b[0mself\u001b[0m\u001b[0;34m.\u001b[0m\u001b[0mload_workbook\u001b[0m\u001b[0;34m(\u001b[0m\u001b[0mfilepath_or_buffer\u001b[0m\u001b[0;34m)\u001b[0m\u001b[0;34m\u001b[0m\u001b[0;34m\u001b[0m\u001b[0m\n\u001b[1;32m    358\u001b[0m         \u001b[0;32melif\u001b[0m \u001b[0misinstance\u001b[0m\u001b[0;34m(\u001b[0m\u001b[0mfilepath_or_buffer\u001b[0m\u001b[0;34m,\u001b[0m \u001b[0mstr\u001b[0m\u001b[0;34m)\u001b[0m\u001b[0;34m:\u001b[0m\u001b[0;34m\u001b[0m\u001b[0;34m\u001b[0m\u001b[0m\n\u001b[0;32m--> 359\u001b[0;31m             \u001b[0mself\u001b[0m\u001b[0;34m.\u001b[0m\u001b[0mbook\u001b[0m \u001b[0;34m=\u001b[0m \u001b[0mself\u001b[0m\u001b[0;34m.\u001b[0m\u001b[0mload_workbook\u001b[0m\u001b[0;34m(\u001b[0m\u001b[0mfilepath_or_buffer\u001b[0m\u001b[0;34m)\u001b[0m\u001b[0;34m\u001b[0m\u001b[0;34m\u001b[0m\u001b[0m\n\u001b[0m\u001b[1;32m    360\u001b[0m         \u001b[0;32melse\u001b[0m\u001b[0;34m:\u001b[0m\u001b[0;34m\u001b[0m\u001b[0;34m\u001b[0m\u001b[0m\n\u001b[1;32m    361\u001b[0m             raise ValueError(\n",
      "\u001b[0;32m/opt/anaconda3/lib/python3.7/site-packages/pandas/io/excel/_xlrd.py\u001b[0m in \u001b[0;36mload_workbook\u001b[0;34m(self, filepath_or_buffer)\u001b[0m\n\u001b[1;32m     34\u001b[0m             \u001b[0;32mreturn\u001b[0m \u001b[0mopen_workbook\u001b[0m\u001b[0;34m(\u001b[0m\u001b[0mfile_contents\u001b[0m\u001b[0;34m=\u001b[0m\u001b[0mdata\u001b[0m\u001b[0;34m)\u001b[0m\u001b[0;34m\u001b[0m\u001b[0;34m\u001b[0m\u001b[0m\n\u001b[1;32m     35\u001b[0m         \u001b[0;32melse\u001b[0m\u001b[0;34m:\u001b[0m\u001b[0;34m\u001b[0m\u001b[0;34m\u001b[0m\u001b[0m\n\u001b[0;32m---> 36\u001b[0;31m             \u001b[0;32mreturn\u001b[0m \u001b[0mopen_workbook\u001b[0m\u001b[0;34m(\u001b[0m\u001b[0mfilepath_or_buffer\u001b[0m\u001b[0;34m)\u001b[0m\u001b[0;34m\u001b[0m\u001b[0;34m\u001b[0m\u001b[0m\n\u001b[0m\u001b[1;32m     37\u001b[0m \u001b[0;34m\u001b[0m\u001b[0m\n\u001b[1;32m     38\u001b[0m     \u001b[0;34m@\u001b[0m\u001b[0mproperty\u001b[0m\u001b[0;34m\u001b[0m\u001b[0;34m\u001b[0m\u001b[0m\n",
      "\u001b[0;32m/opt/anaconda3/lib/python3.7/site-packages/xlrd/__init__.py\u001b[0m in \u001b[0;36mopen_workbook\u001b[0;34m(filename, logfile, verbosity, use_mmap, file_contents, encoding_override, formatting_info, on_demand, ragged_rows)\u001b[0m\n\u001b[1;32m    109\u001b[0m     \u001b[0;32melse\u001b[0m\u001b[0;34m:\u001b[0m\u001b[0;34m\u001b[0m\u001b[0;34m\u001b[0m\u001b[0m\n\u001b[1;32m    110\u001b[0m         \u001b[0mfilename\u001b[0m \u001b[0;34m=\u001b[0m \u001b[0mos\u001b[0m\u001b[0;34m.\u001b[0m\u001b[0mpath\u001b[0m\u001b[0;34m.\u001b[0m\u001b[0mexpanduser\u001b[0m\u001b[0;34m(\u001b[0m\u001b[0mfilename\u001b[0m\u001b[0;34m)\u001b[0m\u001b[0;34m\u001b[0m\u001b[0;34m\u001b[0m\u001b[0m\n\u001b[0;32m--> 111\u001b[0;31m         \u001b[0;32mwith\u001b[0m \u001b[0mopen\u001b[0m\u001b[0;34m(\u001b[0m\u001b[0mfilename\u001b[0m\u001b[0;34m,\u001b[0m \u001b[0;34m\"rb\"\u001b[0m\u001b[0;34m)\u001b[0m \u001b[0;32mas\u001b[0m \u001b[0mf\u001b[0m\u001b[0;34m:\u001b[0m\u001b[0;34m\u001b[0m\u001b[0;34m\u001b[0m\u001b[0m\n\u001b[0m\u001b[1;32m    112\u001b[0m             \u001b[0mpeek\u001b[0m \u001b[0;34m=\u001b[0m \u001b[0mf\u001b[0m\u001b[0;34m.\u001b[0m\u001b[0mread\u001b[0m\u001b[0;34m(\u001b[0m\u001b[0mpeeksz\u001b[0m\u001b[0;34m)\u001b[0m\u001b[0;34m\u001b[0m\u001b[0;34m\u001b[0m\u001b[0m\n\u001b[1;32m    113\u001b[0m     \u001b[0;32mif\u001b[0m \u001b[0mpeek\u001b[0m \u001b[0;34m==\u001b[0m \u001b[0;34mb\"PK\\x03\\x04\"\u001b[0m\u001b[0;34m:\u001b[0m \u001b[0;31m# a ZIP file\u001b[0m\u001b[0;34m\u001b[0m\u001b[0;34m\u001b[0m\u001b[0m\n",
      "\u001b[0;31mFileNotFoundError\u001b[0m: [Errno 2] No such file or directory: 'Formulario sin titulo (respuestas).xlsx'"
     ]
    }
   ],
   "source": [
    "df = pd.read_excel(\"Formulario sin titulo (respuestas).xlsx\")\n",
    "df"
   ]
  },
  {
   "cell_type": "code",
   "execution_count": 26,
   "metadata": {},
   "outputs": [],
   "source": [
    "!open ."
   ]
  },
  {
   "cell_type": "code",
   "execution_count": 23,
   "metadata": {},
   "outputs": [
    {
     "name": "stdout",
     "output_type": "stream",
     "text": [
      "  Programacion lineal.ipynb\r\n",
      " clase 3.ipynb\r\n",
      " clase2.ipynb\r\n",
      "Formulario sin título (respuestas).xlsx\r\n",
      "Untitled.ipynb\r\n",
      "Untitled1.ipynb\r\n",
      "Untitled2.ipynb\r\n",
      "Untitled3.ipynb\r\n",
      "Untitled4.ipynb\r\n",
      "untitled.txt\r\n"
     ]
    }
   ],
   "source": [
    "!ls"
   ]
  },
  {
   "cell_type": "code",
   "execution_count": 24,
   "metadata": {},
   "outputs": [],
   "source": [
    "import pandas as pd"
   ]
  },
  {
   "cell_type": "code",
   "execution_count": 27,
   "metadata": {},
   "outputs": [
    {
     "data": {
      "text/html": [
       "<div>\n",
       "<style scoped>\n",
       "    .dataframe tbody tr th:only-of-type {\n",
       "        vertical-align: middle;\n",
       "    }\n",
       "\n",
       "    .dataframe tbody tr th {\n",
       "        vertical-align: top;\n",
       "    }\n",
       "\n",
       "    .dataframe thead th {\n",
       "        text-align: right;\n",
       "    }\n",
       "</style>\n",
       "<table border=\"1\" class=\"dataframe\">\n",
       "  <thead>\n",
       "    <tr style=\"text-align: right;\">\n",
       "      <th></th>\n",
       "      <th>Marca temporal</th>\n",
       "      <th>Peso</th>\n",
       "      <th>Altura</th>\n",
       "    </tr>\n",
       "  </thead>\n",
       "  <tbody>\n",
       "    <tr>\n",
       "      <td>0</td>\n",
       "      <td>2020-02-24 18:15:40.377</td>\n",
       "      <td>100</td>\n",
       "      <td>180</td>\n",
       "    </tr>\n",
       "    <tr>\n",
       "      <td>1</td>\n",
       "      <td>2020-02-24 18:55:12.631</td>\n",
       "      <td>68</td>\n",
       "      <td>170</td>\n",
       "    </tr>\n",
       "    <tr>\n",
       "      <td>2</td>\n",
       "      <td>2020-02-24 18:55:26.376</td>\n",
       "      <td>65</td>\n",
       "      <td>169</td>\n",
       "    </tr>\n",
       "    <tr>\n",
       "      <td>3</td>\n",
       "      <td>2020-02-24 18:55:35.802</td>\n",
       "      <td>75</td>\n",
       "      <td>174</td>\n",
       "    </tr>\n",
       "    <tr>\n",
       "      <td>4</td>\n",
       "      <td>2020-02-24 18:55:46.441</td>\n",
       "      <td>75</td>\n",
       "      <td>185</td>\n",
       "    </tr>\n",
       "    <tr>\n",
       "      <td>5</td>\n",
       "      <td>2020-02-24 18:55:53.148</td>\n",
       "      <td>76</td>\n",
       "      <td>177</td>\n",
       "    </tr>\n",
       "    <tr>\n",
       "      <td>6</td>\n",
       "      <td>2020-02-24 18:55:57.894</td>\n",
       "      <td>75</td>\n",
       "      <td>189</td>\n",
       "    </tr>\n",
       "    <tr>\n",
       "      <td>7</td>\n",
       "      <td>2020-02-24 18:56:00.000</td>\n",
       "      <td>68</td>\n",
       "      <td>174</td>\n",
       "    </tr>\n",
       "    <tr>\n",
       "      <td>8</td>\n",
       "      <td>2020-02-24 18:56:24.840</td>\n",
       "      <td>61</td>\n",
       "      <td>162</td>\n",
       "    </tr>\n",
       "    <tr>\n",
       "      <td>9</td>\n",
       "      <td>2020-02-24 18:57:03.105</td>\n",
       "      <td>67</td>\n",
       "      <td>171</td>\n",
       "    </tr>\n",
       "    <tr>\n",
       "      <td>10</td>\n",
       "      <td>2020-02-24 18:57:24.977</td>\n",
       "      <td>52</td>\n",
       "      <td>168</td>\n",
       "    </tr>\n",
       "    <tr>\n",
       "      <td>11</td>\n",
       "      <td>2020-02-24 18:57:42.827</td>\n",
       "      <td>60</td>\n",
       "      <td>168</td>\n",
       "    </tr>\n",
       "    <tr>\n",
       "      <td>12</td>\n",
       "      <td>2020-02-24 18:58:14.252</td>\n",
       "      <td>68</td>\n",
       "      <td>174</td>\n",
       "    </tr>\n",
       "  </tbody>\n",
       "</table>\n",
       "</div>"
      ],
      "text/plain": [
       "            Marca temporal  Peso  Altura\n",
       "0  2020-02-24 18:15:40.377   100     180\n",
       "1  2020-02-24 18:55:12.631    68     170\n",
       "2  2020-02-24 18:55:26.376    65     169\n",
       "3  2020-02-24 18:55:35.802    75     174\n",
       "4  2020-02-24 18:55:46.441    75     185\n",
       "5  2020-02-24 18:55:53.148    76     177\n",
       "6  2020-02-24 18:55:57.894    75     189\n",
       "7  2020-02-24 18:56:00.000    68     174\n",
       "8  2020-02-24 18:56:24.840    61     162\n",
       "9  2020-02-24 18:57:03.105    67     171\n",
       "10 2020-02-24 18:57:24.977    52     168\n",
       "11 2020-02-24 18:57:42.827    60     168\n",
       "12 2020-02-24 18:58:14.252    68     174"
      ]
     },
     "execution_count": 27,
     "metadata": {},
     "output_type": "execute_result"
    }
   ],
   "source": [
    "df = pd.read_excel(\"Formulario sin título (respuestas).xlsx\")\n",
    "df"
   ]
  },
  {
   "cell_type": "code",
   "execution_count": 29,
   "metadata": {},
   "outputs": [
    {
     "data": {
      "text/plain": [
       "array([100,  68,  65,  75,  75,  76,  75,  68,  61,  67,  52,  60,  68])"
      ]
     },
     "execution_count": 29,
     "metadata": {},
     "output_type": "execute_result"
    }
   ],
   "source": [
    "df[\"Peso\"].values"
   ]
  },
  {
   "cell_type": "code",
   "execution_count": null,
   "metadata": {},
   "outputs": [],
   "source": [
    "plt.figure(figsize=(12,9)\n",
    "          x,y)"
   ]
  },
  {
   "cell_type": "code",
   "execution_count": 33,
   "metadata": {},
   "outputs": [
    {
     "name": "stdout",
     "output_type": "stream",
     "text": [
      "  Programacion lineal.ipynb\r\n",
      " clase 3.ipynb\r\n",
      " clase2.ipynb\r\n",
      "Formulario sin título (respuestas).xlsx\r\n",
      "Untitled.ipynb\r\n",
      "Untitled1.ipynb\r\n",
      "Untitled2.ipynb\r\n",
      "Untitled3.ipynb\r\n",
      "Untitled4.ipynb\r\n",
      "introduccion Estadistica.ipynb\r\n",
      "nomina_0_3000.csv\r\n",
      "nomina_10001_.csv\r\n",
      "nomina_3001_4000.csv\r\n",
      "nomina_4001_4500.csv\r\n",
      "nomina_4901_4999.csv\r\n",
      "nomina_5001_7000.csv\r\n",
      "nomina_7000_10000.csv\r\n",
      "untitled.txt\r\n"
     ]
    }
   ],
   "source": [
    "!ls"
   ]
  },
  {
   "cell_type": "markdown",
   "metadata": {},
   "source": [
    "# se crea un listado de las nominas"
   ]
  },
  {
   "cell_type": "code",
   "execution_count": 34,
   "metadata": {},
   "outputs": [],
   "source": [
    "NominaList= [\"nomina_0_3000.csv\",\n",
    "\"nomina_10001_.csv\",\n",
    "\"nomina_3001_4000.csv\",\n",
    "\"nomina_4001_4500.csv\",\n",
    "\"nomina_4901_4999.csv\",\n",
    "\"nomina_5001_7000.csv\",\n",
    "\"nomina_7000_10000.csv\"]"
   ]
  },
  {
   "cell_type": "code",
   "execution_count": 36,
   "metadata": {},
   "outputs": [
    {
     "data": {
      "text/html": [
       "<div>\n",
       "<style scoped>\n",
       "    .dataframe tbody tr th:only-of-type {\n",
       "        vertical-align: middle;\n",
       "    }\n",
       "\n",
       "    .dataframe tbody tr th {\n",
       "        vertical-align: top;\n",
       "    }\n",
       "\n",
       "    .dataframe thead th {\n",
       "        text-align: right;\n",
       "    }\n",
       "</style>\n",
       "<table border=\"1\" class=\"dataframe\">\n",
       "  <thead>\n",
       "    <tr style=\"text-align: right;\">\n",
       "      <th></th>\n",
       "      <th></th>\n",
       "      <th>Fecha</th>\n",
       "      <th>Nombre Empleado</th>\n",
       "      <th>Dependencia</th>\n",
       "      <th>Puesto</th>\n",
       "      <th>Percepciones</th>\n",
       "      <th>Deducciones</th>\n",
       "      <th>Neto</th>\n",
       "    </tr>\n",
       "  </thead>\n",
       "  <tbody>\n",
       "    <tr>\n",
       "      <td rowspan=\"5\" valign=\"top\">13/02/2020</td>\n",
       "      <td>BECERRA CALVILLO MARIA BEATRIZ</td>\n",
       "      <td>SECRETARÍA DE LA HACIENDA PÚBLICA</td>\n",
       "      <td>CAJERO</td>\n",
       "      <td>ACTIVO</td>\n",
       "      <td>BASE</td>\n",
       "      <td>2508.46</td>\n",
       "      <td>518.70</td>\n",
       "      <td>1989.76</td>\n",
       "    </tr>\n",
       "    <tr>\n",
       "      <td>BUENO ESTRADA YESENIA</td>\n",
       "      <td>SECRETARÍA DE LA HACIENDA PÚBLICA</td>\n",
       "      <td>CAJERO</td>\n",
       "      <td>ACTIVO</td>\n",
       "      <td>BASE</td>\n",
       "      <td>2508.46</td>\n",
       "      <td>518.70</td>\n",
       "      <td>1989.76</td>\n",
       "    </tr>\n",
       "    <tr>\n",
       "      <td>BUENROSTRO PRIETO ERNESTO ALONSO</td>\n",
       "      <td>SECRETARÍA DE LA HACIENDA PÚBLICA</td>\n",
       "      <td>ANALISTA B</td>\n",
       "      <td>ACTIVO</td>\n",
       "      <td>BASE</td>\n",
       "      <td>2508.46</td>\n",
       "      <td>518.70</td>\n",
       "      <td>1989.76</td>\n",
       "    </tr>\n",
       "    <tr>\n",
       "      <td>BUENROSTRO PRIETO KARLA MARIA</td>\n",
       "      <td>SECRETARÍA DE LA HACIENDA PÚBLICA</td>\n",
       "      <td>AUXILIAR ADMINISTRATIVO</td>\n",
       "      <td>ACTIVO</td>\n",
       "      <td>BASE</td>\n",
       "      <td>2006.78</td>\n",
       "      <td>411.54</td>\n",
       "      <td>1595.24</td>\n",
       "    </tr>\n",
       "    <tr>\n",
       "      <td>CARDENAS ANTOLIN CARMEN FABIOLA</td>\n",
       "      <td>SECRETARÍA DE LA HACIENDA PÚBLICA</td>\n",
       "      <td>CAJERO</td>\n",
       "      <td>ACTIVO</td>\n",
       "      <td>BASE</td>\n",
       "      <td>2508.46</td>\n",
       "      <td>518.70</td>\n",
       "      <td>1989.76</td>\n",
       "    </tr>\n",
       "  </tbody>\n",
       "</table>\n",
       "</div>"
      ],
      "text/plain": [
       "                                                                         Fecha  \\\n",
       "13/02/2020 BECERRA CALVILLO MARIA BEATRIZ    SECRETARÍA DE LA HACIENDA PÚBLICA   \n",
       "           BUENO ESTRADA YESENIA             SECRETARÍA DE LA HACIENDA PÚBLICA   \n",
       "           BUENROSTRO PRIETO ERNESTO ALONSO  SECRETARÍA DE LA HACIENDA PÚBLICA   \n",
       "           BUENROSTRO PRIETO KARLA MARIA     SECRETARÍA DE LA HACIENDA PÚBLICA   \n",
       "           CARDENAS ANTOLIN CARMEN FABIOLA   SECRETARÍA DE LA HACIENDA PÚBLICA   \n",
       "\n",
       "                                                      Nombre Empleado  \\\n",
       "13/02/2020 BECERRA CALVILLO MARIA BEATRIZ                     CAJERO    \n",
       "           BUENO ESTRADA YESENIA                              CAJERO    \n",
       "           BUENROSTRO PRIETO ERNESTO ALONSO               ANALISTA B    \n",
       "           BUENROSTRO PRIETO KARLA MARIA     AUXILIAR ADMINISTRATIVO    \n",
       "           CARDENAS ANTOLIN CARMEN FABIOLA                    CAJERO    \n",
       "\n",
       "                                            Dependencia Puesto  Percepciones  \\\n",
       "13/02/2020 BECERRA CALVILLO MARIA BEATRIZ        ACTIVO   BASE       2508.46   \n",
       "           BUENO ESTRADA YESENIA                 ACTIVO   BASE       2508.46   \n",
       "           BUENROSTRO PRIETO ERNESTO ALONSO      ACTIVO   BASE       2508.46   \n",
       "           BUENROSTRO PRIETO KARLA MARIA         ACTIVO   BASE       2006.78   \n",
       "           CARDENAS ANTOLIN CARMEN FABIOLA       ACTIVO   BASE       2508.46   \n",
       "\n",
       "                                             Deducciones     Neto  \n",
       "13/02/2020 BECERRA CALVILLO MARIA BEATRIZ         518.70  1989.76  \n",
       "           BUENO ESTRADA YESENIA                  518.70  1989.76  \n",
       "           BUENROSTRO PRIETO ERNESTO ALONSO       518.70  1989.76  \n",
       "           BUENROSTRO PRIETO KARLA MARIA          411.54  1595.24  \n",
       "           CARDENAS ANTOLIN CARMEN FABIOLA        518.70  1989.76  "
      ]
     },
     "execution_count": 36,
     "metadata": {},
     "output_type": "execute_result"
    }
   ],
   "source": [
    "df=pd.read_csv(\"nomina_0_3000.csv\")\n",
    "df.head()"
   ]
  },
  {
   "cell_type": "code",
   "execution_count": 39,
   "metadata": {},
   "outputs": [
    {
     "data": {
      "text/html": [
       "<div>\n",
       "<style scoped>\n",
       "    .dataframe tbody tr th:only-of-type {\n",
       "        vertical-align: middle;\n",
       "    }\n",
       "\n",
       "    .dataframe tbody tr th {\n",
       "        vertical-align: top;\n",
       "    }\n",
       "\n",
       "    .dataframe thead th {\n",
       "        text-align: right;\n",
       "    }\n",
       "</style>\n",
       "<table border=\"1\" class=\"dataframe\">\n",
       "  <thead>\n",
       "    <tr style=\"text-align: right;\">\n",
       "      <th></th>\n",
       "      <th>Fecha</th>\n",
       "      <th>Nombre</th>\n",
       "      <th>Dependencia</th>\n",
       "      <th>Puesto</th>\n",
       "      <th>Estatus</th>\n",
       "      <th>Tipo</th>\n",
       "      <th>Percepciones</th>\n",
       "      <th>Deducciones</th>\n",
       "      <th>Neto</th>\n",
       "    </tr>\n",
       "  </thead>\n",
       "  <tbody>\n",
       "    <tr>\n",
       "      <td>0</td>\n",
       "      <td>Fecha</td>\n",
       "      <td>Nombre Empleado</td>\n",
       "      <td>Dependencia</td>\n",
       "      <td>Puesto</td>\n",
       "      <td>Percepciones</td>\n",
       "      <td>Deducciones</td>\n",
       "      <td>Neto</td>\n",
       "      <td>NaN</td>\n",
       "      <td>NaN</td>\n",
       "    </tr>\n",
       "    <tr>\n",
       "      <td>1</td>\n",
       "      <td>13/02/2020</td>\n",
       "      <td>BECERRA CALVILLO MARIA BEATRIZ</td>\n",
       "      <td>SECRETARÍA DE LA HACIENDA PÚBLICA</td>\n",
       "      <td>CAJERO</td>\n",
       "      <td>ACTIVO</td>\n",
       "      <td>BASE</td>\n",
       "      <td>2508.46</td>\n",
       "      <td>518.70</td>\n",
       "      <td>1989.76</td>\n",
       "    </tr>\n",
       "    <tr>\n",
       "      <td>2</td>\n",
       "      <td>13/02/2020</td>\n",
       "      <td>BUENO ESTRADA YESENIA</td>\n",
       "      <td>SECRETARÍA DE LA HACIENDA PÚBLICA</td>\n",
       "      <td>CAJERO</td>\n",
       "      <td>ACTIVO</td>\n",
       "      <td>BASE</td>\n",
       "      <td>2508.46</td>\n",
       "      <td>518.70</td>\n",
       "      <td>1989.76</td>\n",
       "    </tr>\n",
       "    <tr>\n",
       "      <td>3</td>\n",
       "      <td>13/02/2020</td>\n",
       "      <td>BUENROSTRO PRIETO ERNESTO ALONSO</td>\n",
       "      <td>SECRETARÍA DE LA HACIENDA PÚBLICA</td>\n",
       "      <td>ANALISTA B</td>\n",
       "      <td>ACTIVO</td>\n",
       "      <td>BASE</td>\n",
       "      <td>2508.46</td>\n",
       "      <td>518.70</td>\n",
       "      <td>1989.76</td>\n",
       "    </tr>\n",
       "    <tr>\n",
       "      <td>4</td>\n",
       "      <td>13/02/2020</td>\n",
       "      <td>BUENROSTRO PRIETO KARLA MARIA</td>\n",
       "      <td>SECRETARÍA DE LA HACIENDA PÚBLICA</td>\n",
       "      <td>AUXILIAR ADMINISTRATIVO</td>\n",
       "      <td>ACTIVO</td>\n",
       "      <td>BASE</td>\n",
       "      <td>2006.78</td>\n",
       "      <td>411.54</td>\n",
       "      <td>1595.24</td>\n",
       "    </tr>\n",
       "  </tbody>\n",
       "</table>\n",
       "</div>"
      ],
      "text/plain": [
       "        Fecha                            Nombre  \\\n",
       "0       Fecha                   Nombre Empleado   \n",
       "1  13/02/2020    BECERRA CALVILLO MARIA BEATRIZ   \n",
       "2  13/02/2020             BUENO ESTRADA YESENIA   \n",
       "3  13/02/2020  BUENROSTRO PRIETO ERNESTO ALONSO   \n",
       "4  13/02/2020     BUENROSTRO PRIETO KARLA MARIA   \n",
       "\n",
       "                         Dependencia                    Puesto       Estatus  \\\n",
       "0                        Dependencia                    Puesto  Percepciones   \n",
       "1  SECRETARÍA DE LA HACIENDA PÚBLICA                   CAJERO         ACTIVO   \n",
       "2  SECRETARÍA DE LA HACIENDA PÚBLICA                   CAJERO         ACTIVO   \n",
       "3  SECRETARÍA DE LA HACIENDA PÚBLICA               ANALISTA B         ACTIVO   \n",
       "4  SECRETARÍA DE LA HACIENDA PÚBLICA  AUXILIAR ADMINISTRATIVO         ACTIVO   \n",
       "\n",
       "          Tipo Percepciones  Deducciones     Neto  \n",
       "0  Deducciones         Neto          NaN      NaN  \n",
       "1         BASE      2508.46       518.70  1989.76  \n",
       "2         BASE      2508.46       518.70  1989.76  \n",
       "3         BASE      2508.46       518.70  1989.76  \n",
       "4         BASE      2006.78       411.54  1595.24  "
      ]
     },
     "execution_count": 39,
     "metadata": {},
     "output_type": "execute_result"
    }
   ],
   "source": [
    "names=[\"Fecha\",\"Nombre\",\"Dependencia\",\"Puesto\",\"Estatus\",\"Tipo\",\"Percepciones\",\"Deducciones\",\"Neto\"]\n",
    "df=pd.read_csv(\"nomina_0_3000.csv\",names=names,header=None)\n",
    "df.head()"
   ]
  },
  {
   "cell_type": "code",
   "execution_count": 40,
   "metadata": {},
   "outputs": [
    {
     "data": {
      "text/html": [
       "<div>\n",
       "<style scoped>\n",
       "    .dataframe tbody tr th:only-of-type {\n",
       "        vertical-align: middle;\n",
       "    }\n",
       "\n",
       "    .dataframe tbody tr th {\n",
       "        vertical-align: top;\n",
       "    }\n",
       "\n",
       "    .dataframe thead th {\n",
       "        text-align: right;\n",
       "    }\n",
       "</style>\n",
       "<table border=\"1\" class=\"dataframe\">\n",
       "  <thead>\n",
       "    <tr style=\"text-align: right;\">\n",
       "      <th></th>\n",
       "      <th>Fecha</th>\n",
       "      <th>Nombre</th>\n",
       "      <th>Dependencia</th>\n",
       "      <th>Puesto</th>\n",
       "      <th>Estatus</th>\n",
       "      <th>Tipo</th>\n",
       "      <th>Percepciones</th>\n",
       "      <th>Deducciones</th>\n",
       "      <th>Neto</th>\n",
       "    </tr>\n",
       "  </thead>\n",
       "  <tbody>\n",
       "    <tr>\n",
       "      <td>0</td>\n",
       "      <td>13/02/2020</td>\n",
       "      <td>BECERRA CALVILLO MARIA BEATRIZ</td>\n",
       "      <td>SECRETARÍA DE LA HACIENDA PÚBLICA</td>\n",
       "      <td>CAJERO</td>\n",
       "      <td>ACTIVO</td>\n",
       "      <td>BASE</td>\n",
       "      <td>2508.46</td>\n",
       "      <td>518.70</td>\n",
       "      <td>1989.76</td>\n",
       "    </tr>\n",
       "    <tr>\n",
       "      <td>1</td>\n",
       "      <td>13/02/2020</td>\n",
       "      <td>BUENO ESTRADA YESENIA</td>\n",
       "      <td>SECRETARÍA DE LA HACIENDA PÚBLICA</td>\n",
       "      <td>CAJERO</td>\n",
       "      <td>ACTIVO</td>\n",
       "      <td>BASE</td>\n",
       "      <td>2508.46</td>\n",
       "      <td>518.70</td>\n",
       "      <td>1989.76</td>\n",
       "    </tr>\n",
       "    <tr>\n",
       "      <td>2</td>\n",
       "      <td>13/02/2020</td>\n",
       "      <td>BUENROSTRO PRIETO ERNESTO ALONSO</td>\n",
       "      <td>SECRETARÍA DE LA HACIENDA PÚBLICA</td>\n",
       "      <td>ANALISTA B</td>\n",
       "      <td>ACTIVO</td>\n",
       "      <td>BASE</td>\n",
       "      <td>2508.46</td>\n",
       "      <td>518.70</td>\n",
       "      <td>1989.76</td>\n",
       "    </tr>\n",
       "    <tr>\n",
       "      <td>3</td>\n",
       "      <td>13/02/2020</td>\n",
       "      <td>BUENROSTRO PRIETO KARLA MARIA</td>\n",
       "      <td>SECRETARÍA DE LA HACIENDA PÚBLICA</td>\n",
       "      <td>AUXILIAR ADMINISTRATIVO</td>\n",
       "      <td>ACTIVO</td>\n",
       "      <td>BASE</td>\n",
       "      <td>2006.78</td>\n",
       "      <td>411.54</td>\n",
       "      <td>1595.24</td>\n",
       "    </tr>\n",
       "    <tr>\n",
       "      <td>4</td>\n",
       "      <td>13/02/2020</td>\n",
       "      <td>CARDENAS ANTOLIN CARMEN FABIOLA</td>\n",
       "      <td>SECRETARÍA DE LA HACIENDA PÚBLICA</td>\n",
       "      <td>CAJERO</td>\n",
       "      <td>ACTIVO</td>\n",
       "      <td>BASE</td>\n",
       "      <td>2508.46</td>\n",
       "      <td>518.70</td>\n",
       "      <td>1989.76</td>\n",
       "    </tr>\n",
       "  </tbody>\n",
       "</table>\n",
       "</div>"
      ],
      "text/plain": [
       "        Fecha                            Nombre  \\\n",
       "0  13/02/2020    BECERRA CALVILLO MARIA BEATRIZ   \n",
       "1  13/02/2020             BUENO ESTRADA YESENIA   \n",
       "2  13/02/2020  BUENROSTRO PRIETO ERNESTO ALONSO   \n",
       "3  13/02/2020     BUENROSTRO PRIETO KARLA MARIA   \n",
       "4  13/02/2020   CARDENAS ANTOLIN CARMEN FABIOLA   \n",
       "\n",
       "                         Dependencia                    Puesto Estatus  Tipo  \\\n",
       "0  SECRETARÍA DE LA HACIENDA PÚBLICA                   CAJERO   ACTIVO  BASE   \n",
       "1  SECRETARÍA DE LA HACIENDA PÚBLICA                   CAJERO   ACTIVO  BASE   \n",
       "2  SECRETARÍA DE LA HACIENDA PÚBLICA               ANALISTA B   ACTIVO  BASE   \n",
       "3  SECRETARÍA DE LA HACIENDA PÚBLICA  AUXILIAR ADMINISTRATIVO   ACTIVO  BASE   \n",
       "4  SECRETARÍA DE LA HACIENDA PÚBLICA                   CAJERO   ACTIVO  BASE   \n",
       "\n",
       "   Percepciones  Deducciones     Neto  \n",
       "0       2508.46       518.70  1989.76  \n",
       "1       2508.46       518.70  1989.76  \n",
       "2       2508.46       518.70  1989.76  \n",
       "3       2006.78       411.54  1595.24  \n",
       "4       2508.46       518.70  1989.76  "
      ]
     },
     "execution_count": 40,
     "metadata": {},
     "output_type": "execute_result"
    }
   ],
   "source": [
    "names=[\"Fecha\",\"Nombre\",\"Dependencia\",\"Puesto\",\"Estatus\",\"Tipo\",\"Percepciones\",\"Deducciones\",\"Neto\"]\n",
    "df=pd.read_csv(\"nomina_0_3000.csv\",names=names,header=None,skiprows=2)\n",
    "df.head()"
   ]
  },
  {
   "cell_type": "code",
   "execution_count": 41,
   "metadata": {},
   "outputs": [],
   "source": [
    "names=[\"Nombre\",\"Dependencia\",\"Puesto\",\"Percepciones\",\"Deducciones\",\"Neto\"]\n",
    "mi_df = lambda x: pd.read_csv(x, usecols=[1,2,3,6,7,8],names=names,header=None,skiprows=2)\n",
    "    \n",
    "df_from_each_file=(mi_df(f) for f in NominaList)\n",
    "nomina= pd.concat(df_from_each_file, ignore_index=True)"
   ]
  },
  {
   "cell_type": "code",
   "execution_count": 42,
   "metadata": {},
   "outputs": [
    {
     "data": {
      "text/html": [
       "<div>\n",
       "<style scoped>\n",
       "    .dataframe tbody tr th:only-of-type {\n",
       "        vertical-align: middle;\n",
       "    }\n",
       "\n",
       "    .dataframe tbody tr th {\n",
       "        vertical-align: top;\n",
       "    }\n",
       "\n",
       "    .dataframe thead th {\n",
       "        text-align: right;\n",
       "    }\n",
       "</style>\n",
       "<table border=\"1\" class=\"dataframe\">\n",
       "  <thead>\n",
       "    <tr style=\"text-align: right;\">\n",
       "      <th></th>\n",
       "      <th>Nombre</th>\n",
       "      <th>Dependencia</th>\n",
       "      <th>Puesto</th>\n",
       "      <th>Percepciones</th>\n",
       "      <th>Deducciones</th>\n",
       "      <th>Neto</th>\n",
       "    </tr>\n",
       "  </thead>\n",
       "  <tbody>\n",
       "    <tr>\n",
       "      <td>0</td>\n",
       "      <td>BECERRA CALVILLO MARIA BEATRIZ</td>\n",
       "      <td>SECRETARÍA DE LA HACIENDA PÚBLICA</td>\n",
       "      <td>CAJERO</td>\n",
       "      <td>2508.46</td>\n",
       "      <td>518.70</td>\n",
       "      <td>1989.76</td>\n",
       "    </tr>\n",
       "    <tr>\n",
       "      <td>1</td>\n",
       "      <td>BUENO ESTRADA YESENIA</td>\n",
       "      <td>SECRETARÍA DE LA HACIENDA PÚBLICA</td>\n",
       "      <td>CAJERO</td>\n",
       "      <td>2508.46</td>\n",
       "      <td>518.70</td>\n",
       "      <td>1989.76</td>\n",
       "    </tr>\n",
       "    <tr>\n",
       "      <td>2</td>\n",
       "      <td>BUENROSTRO PRIETO ERNESTO ALONSO</td>\n",
       "      <td>SECRETARÍA DE LA HACIENDA PÚBLICA</td>\n",
       "      <td>ANALISTA B</td>\n",
       "      <td>2508.46</td>\n",
       "      <td>518.70</td>\n",
       "      <td>1989.76</td>\n",
       "    </tr>\n",
       "    <tr>\n",
       "      <td>3</td>\n",
       "      <td>BUENROSTRO PRIETO KARLA MARIA</td>\n",
       "      <td>SECRETARÍA DE LA HACIENDA PÚBLICA</td>\n",
       "      <td>AUXILIAR ADMINISTRATIVO</td>\n",
       "      <td>2006.78</td>\n",
       "      <td>411.54</td>\n",
       "      <td>1595.24</td>\n",
       "    </tr>\n",
       "    <tr>\n",
       "      <td>4</td>\n",
       "      <td>CARDENAS ANTOLIN CARMEN FABIOLA</td>\n",
       "      <td>SECRETARÍA DE LA HACIENDA PÚBLICA</td>\n",
       "      <td>CAJERO</td>\n",
       "      <td>2508.46</td>\n",
       "      <td>518.70</td>\n",
       "      <td>1989.76</td>\n",
       "    </tr>\n",
       "  </tbody>\n",
       "</table>\n",
       "</div>"
      ],
      "text/plain": [
       "                             Nombre                        Dependencia  \\\n",
       "0    BECERRA CALVILLO MARIA BEATRIZ  SECRETARÍA DE LA HACIENDA PÚBLICA   \n",
       "1             BUENO ESTRADA YESENIA  SECRETARÍA DE LA HACIENDA PÚBLICA   \n",
       "2  BUENROSTRO PRIETO ERNESTO ALONSO  SECRETARÍA DE LA HACIENDA PÚBLICA   \n",
       "3     BUENROSTRO PRIETO KARLA MARIA  SECRETARÍA DE LA HACIENDA PÚBLICA   \n",
       "4   CARDENAS ANTOLIN CARMEN FABIOLA  SECRETARÍA DE LA HACIENDA PÚBLICA   \n",
       "\n",
       "                     Puesto  Percepciones  Deducciones     Neto  \n",
       "0                   CAJERO        2508.46       518.70  1989.76  \n",
       "1                   CAJERO        2508.46       518.70  1989.76  \n",
       "2               ANALISTA B        2508.46       518.70  1989.76  \n",
       "3  AUXILIAR ADMINISTRATIVO        2006.78       411.54  1595.24  \n",
       "4                   CAJERO        2508.46       518.70  1989.76  "
      ]
     },
     "execution_count": 42,
     "metadata": {},
     "output_type": "execute_result"
    }
   ],
   "source": [
    "nomina.head()"
   ]
  },
  {
   "cell_type": "code",
   "execution_count": 43,
   "metadata": {},
   "outputs": [
    {
     "data": {
      "text/html": [
       "<div>\n",
       "<style scoped>\n",
       "    .dataframe tbody tr th:only-of-type {\n",
       "        vertical-align: middle;\n",
       "    }\n",
       "\n",
       "    .dataframe tbody tr th {\n",
       "        vertical-align: top;\n",
       "    }\n",
       "\n",
       "    .dataframe thead th {\n",
       "        text-align: right;\n",
       "    }\n",
       "</style>\n",
       "<table border=\"1\" class=\"dataframe\">\n",
       "  <thead>\n",
       "    <tr style=\"text-align: right;\">\n",
       "      <th></th>\n",
       "      <th>Percepciones</th>\n",
       "      <th>Deducciones</th>\n",
       "      <th>Neto</th>\n",
       "    </tr>\n",
       "  </thead>\n",
       "  <tbody>\n",
       "    <tr>\n",
       "      <td>count</td>\n",
       "      <td>14002.000000</td>\n",
       "      <td>14002.000000</td>\n",
       "      <td>14002.000000</td>\n",
       "    </tr>\n",
       "    <tr>\n",
       "      <td>mean</td>\n",
       "      <td>9783.054558</td>\n",
       "      <td>4234.217962</td>\n",
       "      <td>5548.836601</td>\n",
       "    </tr>\n",
       "    <tr>\n",
       "      <td>std</td>\n",
       "      <td>13220.238007</td>\n",
       "      <td>5033.317698</td>\n",
       "      <td>9944.088694</td>\n",
       "    </tr>\n",
       "    <tr>\n",
       "      <td>min</td>\n",
       "      <td>-8149.380000</td>\n",
       "      <td>-8149.380000</td>\n",
       "      <td>0.000000</td>\n",
       "    </tr>\n",
       "    <tr>\n",
       "      <td>25%</td>\n",
       "      <td>6872.050000</td>\n",
       "      <td>1995.210000</td>\n",
       "      <td>2746.125000</td>\n",
       "    </tr>\n",
       "    <tr>\n",
       "      <td>50%</td>\n",
       "      <td>8362.500000</td>\n",
       "      <td>3581.155000</td>\n",
       "      <td>4639.750000</td>\n",
       "    </tr>\n",
       "    <tr>\n",
       "      <td>75%</td>\n",
       "      <td>9251.000000</td>\n",
       "      <td>5566.185000</td>\n",
       "      <td>6367.290000</td>\n",
       "    </tr>\n",
       "    <tr>\n",
       "      <td>max</td>\n",
       "      <td>791424.940000</td>\n",
       "      <td>324292.100000</td>\n",
       "      <td>770100.000000</td>\n",
       "    </tr>\n",
       "  </tbody>\n",
       "</table>\n",
       "</div>"
      ],
      "text/plain": [
       "        Percepciones    Deducciones           Neto\n",
       "count   14002.000000   14002.000000   14002.000000\n",
       "mean     9783.054558    4234.217962    5548.836601\n",
       "std     13220.238007    5033.317698    9944.088694\n",
       "min     -8149.380000   -8149.380000       0.000000\n",
       "25%      6872.050000    1995.210000    2746.125000\n",
       "50%      8362.500000    3581.155000    4639.750000\n",
       "75%      9251.000000    5566.185000    6367.290000\n",
       "max    791424.940000  324292.100000  770100.000000"
      ]
     },
     "execution_count": 43,
     "metadata": {},
     "output_type": "execute_result"
    }
   ],
   "source": [
    "nomina.describe()"
   ]
  },
  {
   "cell_type": "code",
   "execution_count": 46,
   "metadata": {},
   "outputs": [
    {
     "data": {
      "text/plain": [
       "<matplotlib.axes._subplots.AxesSubplot at 0x1a19eeb650>"
      ]
     },
     "execution_count": 46,
     "metadata": {},
     "output_type": "execute_result"
    },
    {
     "data": {
      "image/png": "[encoded data removed]",
      "text/plain": [
       "<Figure size 864x648 with 1 Axes>"
      ]
     },
     "metadata": {
      "needs_background": "light"
     },
     "output_type": "display_data"
    }
   ],
   "source": [
    "nomina.plot.scatter(\"Percepciones\",\"Deducciones\",figsize=(12,9))"
   ]
  },
  {
   "cell_type": "code",
   "execution_count": 47,
   "metadata": {},
   "outputs": [],
   "source": [
    "from sklearn import linear_model\n",
    "from numpy import array\n",
    "import matplotlib.pyplot as plt\n",
    "import numpy as np"
   ]
  },
  {
   "cell_type": "code",
   "execution_count": 48,
   "metadata": {},
   "outputs": [
    {
     "data": {
      "text/plain": [
       "65961173.70154783"
      ]
     },
     "execution_count": 48,
     "metadata": {},
     "output_type": "execute_result"
    }
   ],
   "source": [
    "yhat=lr.predict(nomina[\"Percepciones\"].values.reshape(-1,1))\n",
    "np.mean((nomina[\"Deducciones\"].values-yhat)**2)"
   ]
  },
  {
   "cell_type": "code",
   "execution_count": 49,
   "metadata": {},
   "outputs": [
    {
     "data": {
      "text/plain": [
       "[<matplotlib.lines.Line2D at 0x1a17f83110>]"
      ]
     },
     "execution_count": 49,
     "metadata": {},
     "output_type": "execute_result"
    },
    {
     "data": {
      "image/png": "[encoded data removed]",
      "text/plain": [
       "<Figure size 864x648 with 1 Axes>"
      ]
     },
     "metadata": {
      "needs_background": "light"
     },
     "output_type": "display_data"
    }
   ],
   "source": [
    "nomina.plot.scatter(\"Percepciones\",\"Deducciones\",figsize=(12,9))\n",
    "plt.plot(nomina[\"Percepciones\"],yhat)"
   ]
  },
  {
   "cell_type": "code",
   "execution_count": null,
   "metadata": {},
   "outputs": [],
   "source": []
  }
 ],
 "metadata": {
  "kernelspec": {
   "display_name": "Python 3",
   "language": "python",
   "name": "python3"
  },
  "language_info": {
   "codemirror_mode": {
    "name": "ipython",
    "version": 3
   },
   "file_extension": ".py",
   "mimetype": "text/x-python",
   "name": "python",
   "nbconvert_exporter": "python",
   "pygments_lexer": "ipython3",
   "version": "3.7.4"
  }
 },
 "nbformat": 4,
 "nbformat_minor": 2
}
